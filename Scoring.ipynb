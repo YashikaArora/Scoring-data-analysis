{
 "cells": [
  {
   "cell_type": "markdown",
   "source": [
    "### Importing Libraries"
   ],
   "metadata": {}
  },
  {
   "cell_type": "code",
   "execution_count": 1,
   "source": [
    "import warnings\r\n",
    "warnings.filterwarnings('ignore')"
   ],
   "outputs": [],
   "metadata": {
    "collapsed": true
   }
  },
  {
   "cell_type": "code",
   "execution_count": 2,
   "source": [
    "import numpy as np\r\n",
    "import pandas as pd\r\n",
    "import matplotlib.pyplot as plt\r\n",
    "%matplotlib inline"
   ],
   "outputs": [],
   "metadata": {
    "collapsed": true
   }
  },
  {
   "cell_type": "code",
   "execution_count": 3,
   "source": [
    "score = pd.read_csv(r\"C:\\Users\\yashika\\Desktop\\Scoring.csv\")"
   ],
   "outputs": [],
   "metadata": {
    "collapsed": true
   }
  },
  {
   "cell_type": "code",
   "execution_count": 4,
   "source": [
    "score.head()"
   ],
   "outputs": [
    {
     "output_type": "execute_result",
     "data": {
      "text/plain": [
       "                            Prospect ID  Lead Number              Lead Origin  \\\n",
       "0  7927b2df-8bba-4d29-b9a2-b6e0beafe620       660737                      API   \n",
       "1  2a272436-5132-4136-86fa-dcc88c88f482       660728                      API   \n",
       "2  8cc8c611-a219-4f35-ad23-fdfd2656bd8a       660727  Landing Page Submission   \n",
       "3  0cc2df48-7cf4-4e39-9de9-19797f9b38cc       660719  Landing Page Submission   \n",
       "4  3256f628-e534-4826-9d63-4a8b88782852       660681  Landing Page Submission   \n",
       "\n",
       "      Lead Source Do Not Email Do Not Call  Converted  TotalVisits  \\\n",
       "0      Olark Chat           No          No          0          0.0   \n",
       "1  Organic Search           No          No          0          5.0   \n",
       "2  Direct Traffic           No          No          1          2.0   \n",
       "3  Direct Traffic           No          No          0          1.0   \n",
       "4          Google           No          No          1          2.0   \n",
       "\n",
       "   Total Time Spent on Website  Page Views Per Visit  ...  \\\n",
       "0                            0                   0.0  ...   \n",
       "1                          674                   2.5  ...   \n",
       "2                         1532                   2.0  ...   \n",
       "3                          305                   1.0  ...   \n",
       "4                         1428                   1.0  ...   \n",
       "\n",
       "  Get updates on DM Content    Lead Profile    City  \\\n",
       "0                        No          Select  Select   \n",
       "1                        No          Select  Select   \n",
       "2                        No  Potential Lead  Mumbai   \n",
       "3                        No          Select  Mumbai   \n",
       "4                        No          Select  Mumbai   \n",
       "\n",
       "  Asymmetrique Activity Index Asymmetrique Profile Index  \\\n",
       "0                   02.Medium                  02.Medium   \n",
       "1                   02.Medium                  02.Medium   \n",
       "2                   02.Medium                    01.High   \n",
       "3                   02.Medium                    01.High   \n",
       "4                   02.Medium                    01.High   \n",
       "\n",
       "  Asymmetrique Activity Score Asymmetrique Profile Score  \\\n",
       "0                        15.0                       15.0   \n",
       "1                        15.0                       15.0   \n",
       "2                        14.0                       20.0   \n",
       "3                        13.0                       17.0   \n",
       "4                        15.0                       18.0   \n",
       "\n",
       "  I agree to pay the amount through cheque  \\\n",
       "0                                       No   \n",
       "1                                       No   \n",
       "2                                       No   \n",
       "3                                       No   \n",
       "4                                       No   \n",
       "\n",
       "  A free copy of Mastering The Interview Last Notable Activity  \n",
       "0                                     No              Modified  \n",
       "1                                     No          Email Opened  \n",
       "2                                    Yes          Email Opened  \n",
       "3                                     No              Modified  \n",
       "4                                     No              Modified  \n",
       "\n",
       "[5 rows x 37 columns]"
      ],
      "text/html": [
       "<div>\n",
       "<style scoped>\n",
       "    .dataframe tbody tr th:only-of-type {\n",
       "        vertical-align: middle;\n",
       "    }\n",
       "\n",
       "    .dataframe tbody tr th {\n",
       "        vertical-align: top;\n",
       "    }\n",
       "\n",
       "    .dataframe thead th {\n",
       "        text-align: right;\n",
       "    }\n",
       "</style>\n",
       "<table border=\"1\" class=\"dataframe\">\n",
       "  <thead>\n",
       "    <tr style=\"text-align: right;\">\n",
       "      <th></th>\n",
       "      <th>Prospect ID</th>\n",
       "      <th>Lead Number</th>\n",
       "      <th>Lead Origin</th>\n",
       "      <th>Lead Source</th>\n",
       "      <th>Do Not Email</th>\n",
       "      <th>Do Not Call</th>\n",
       "      <th>Converted</th>\n",
       "      <th>TotalVisits</th>\n",
       "      <th>Total Time Spent on Website</th>\n",
       "      <th>Page Views Per Visit</th>\n",
       "      <th>...</th>\n",
       "      <th>Get updates on DM Content</th>\n",
       "      <th>Lead Profile</th>\n",
       "      <th>City</th>\n",
       "      <th>Asymmetrique Activity Index</th>\n",
       "      <th>Asymmetrique Profile Index</th>\n",
       "      <th>Asymmetrique Activity Score</th>\n",
       "      <th>Asymmetrique Profile Score</th>\n",
       "      <th>I agree to pay the amount through cheque</th>\n",
       "      <th>A free copy of Mastering The Interview</th>\n",
       "      <th>Last Notable Activity</th>\n",
       "    </tr>\n",
       "  </thead>\n",
       "  <tbody>\n",
       "    <tr>\n",
       "      <th>0</th>\n",
       "      <td>7927b2df-8bba-4d29-b9a2-b6e0beafe620</td>\n",
       "      <td>660737</td>\n",
       "      <td>API</td>\n",
       "      <td>Olark Chat</td>\n",
       "      <td>No</td>\n",
       "      <td>No</td>\n",
       "      <td>0</td>\n",
       "      <td>0.0</td>\n",
       "      <td>0</td>\n",
       "      <td>0.0</td>\n",
       "      <td>...</td>\n",
       "      <td>No</td>\n",
       "      <td>Select</td>\n",
       "      <td>Select</td>\n",
       "      <td>02.Medium</td>\n",
       "      <td>02.Medium</td>\n",
       "      <td>15.0</td>\n",
       "      <td>15.0</td>\n",
       "      <td>No</td>\n",
       "      <td>No</td>\n",
       "      <td>Modified</td>\n",
       "    </tr>\n",
       "    <tr>\n",
       "      <th>1</th>\n",
       "      <td>2a272436-5132-4136-86fa-dcc88c88f482</td>\n",
       "      <td>660728</td>\n",
       "      <td>API</td>\n",
       "      <td>Organic Search</td>\n",
       "      <td>No</td>\n",
       "      <td>No</td>\n",
       "      <td>0</td>\n",
       "      <td>5.0</td>\n",
       "      <td>674</td>\n",
       "      <td>2.5</td>\n",
       "      <td>...</td>\n",
       "      <td>No</td>\n",
       "      <td>Select</td>\n",
       "      <td>Select</td>\n",
       "      <td>02.Medium</td>\n",
       "      <td>02.Medium</td>\n",
       "      <td>15.0</td>\n",
       "      <td>15.0</td>\n",
       "      <td>No</td>\n",
       "      <td>No</td>\n",
       "      <td>Email Opened</td>\n",
       "    </tr>\n",
       "    <tr>\n",
       "      <th>2</th>\n",
       "      <td>8cc8c611-a219-4f35-ad23-fdfd2656bd8a</td>\n",
       "      <td>660727</td>\n",
       "      <td>Landing Page Submission</td>\n",
       "      <td>Direct Traffic</td>\n",
       "      <td>No</td>\n",
       "      <td>No</td>\n",
       "      <td>1</td>\n",
       "      <td>2.0</td>\n",
       "      <td>1532</td>\n",
       "      <td>2.0</td>\n",
       "      <td>...</td>\n",
       "      <td>No</td>\n",
       "      <td>Potential Lead</td>\n",
       "      <td>Mumbai</td>\n",
       "      <td>02.Medium</td>\n",
       "      <td>01.High</td>\n",
       "      <td>14.0</td>\n",
       "      <td>20.0</td>\n",
       "      <td>No</td>\n",
       "      <td>Yes</td>\n",
       "      <td>Email Opened</td>\n",
       "    </tr>\n",
       "    <tr>\n",
       "      <th>3</th>\n",
       "      <td>0cc2df48-7cf4-4e39-9de9-19797f9b38cc</td>\n",
       "      <td>660719</td>\n",
       "      <td>Landing Page Submission</td>\n",
       "      <td>Direct Traffic</td>\n",
       "      <td>No</td>\n",
       "      <td>No</td>\n",
       "      <td>0</td>\n",
       "      <td>1.0</td>\n",
       "      <td>305</td>\n",
       "      <td>1.0</td>\n",
       "      <td>...</td>\n",
       "      <td>No</td>\n",
       "      <td>Select</td>\n",
       "      <td>Mumbai</td>\n",
       "      <td>02.Medium</td>\n",
       "      <td>01.High</td>\n",
       "      <td>13.0</td>\n",
       "      <td>17.0</td>\n",
       "      <td>No</td>\n",
       "      <td>No</td>\n",
       "      <td>Modified</td>\n",
       "    </tr>\n",
       "    <tr>\n",
       "      <th>4</th>\n",
       "      <td>3256f628-e534-4826-9d63-4a8b88782852</td>\n",
       "      <td>660681</td>\n",
       "      <td>Landing Page Submission</td>\n",
       "      <td>Google</td>\n",
       "      <td>No</td>\n",
       "      <td>No</td>\n",
       "      <td>1</td>\n",
       "      <td>2.0</td>\n",
       "      <td>1428</td>\n",
       "      <td>1.0</td>\n",
       "      <td>...</td>\n",
       "      <td>No</td>\n",
       "      <td>Select</td>\n",
       "      <td>Mumbai</td>\n",
       "      <td>02.Medium</td>\n",
       "      <td>01.High</td>\n",
       "      <td>15.0</td>\n",
       "      <td>18.0</td>\n",
       "      <td>No</td>\n",
       "      <td>No</td>\n",
       "      <td>Modified</td>\n",
       "    </tr>\n",
       "  </tbody>\n",
       "</table>\n",
       "<p>5 rows × 37 columns</p>\n",
       "</div>"
      ]
     },
     "metadata": {},
     "execution_count": 4
    }
   ],
   "metadata": {}
  },
  {
   "cell_type": "markdown",
   "source": [
    "### Inspecting the dataframe"
   ],
   "metadata": {}
  },
  {
   "cell_type": "code",
   "execution_count": 5,
   "source": [
    "score.columns"
   ],
   "outputs": [
    {
     "output_type": "execute_result",
     "data": {
      "text/plain": [
       "Index(['Prospect ID', 'Lead Number', 'Lead Origin', 'Lead Source',\n",
       "       'Do Not Email', 'Do Not Call', 'Converted', 'TotalVisits',\n",
       "       'Total Time Spent on Website', 'Page Views Per Visit', 'Last Activity',\n",
       "       'Country', 'Specialization', 'How did you hear about X Education',\n",
       "       'What is your current occupation',\n",
       "       'What matters most to you in choosing a course', 'Search', 'Magazine',\n",
       "       'Newspaper Article', 'X Education Forums', 'Newspaper',\n",
       "       'Digital Advertisement', 'Through Recommendations',\n",
       "       'Receive More Updates About Our Courses', 'Tags', 'Lead Quality',\n",
       "       'Update me on Supply Chain Content', 'Get updates on DM Content',\n",
       "       'Lead Profile', 'City', 'Asymmetrique Activity Index',\n",
       "       'Asymmetrique Profile Index', 'Asymmetrique Activity Score',\n",
       "       'Asymmetrique Profile Score',\n",
       "       'I agree to pay the amount through cheque',\n",
       "       'A free copy of Mastering The Interview', 'Last Notable Activity'],\n",
       "      dtype='object')"
      ]
     },
     "metadata": {},
     "execution_count": 5
    }
   ],
   "metadata": {}
  },
  {
   "cell_type": "code",
   "execution_count": 6,
   "source": [
    "score.dtypes"
   ],
   "outputs": [
    {
     "output_type": "execute_result",
     "data": {
      "text/plain": [
       "Prospect ID                                       object\n",
       "Lead Number                                        int64\n",
       "Lead Origin                                       object\n",
       "Lead Source                                       object\n",
       "Do Not Email                                      object\n",
       "Do Not Call                                       object\n",
       "Converted                                          int64\n",
       "TotalVisits                                      float64\n",
       "Total Time Spent on Website                        int64\n",
       "Page Views Per Visit                             float64\n",
       "Last Activity                                     object\n",
       "Country                                           object\n",
       "Specialization                                    object\n",
       "How did you hear about X Education                object\n",
       "What is your current occupation                   object\n",
       "What matters most to you in choosing a course     object\n",
       "Search                                            object\n",
       "Magazine                                          object\n",
       "Newspaper Article                                 object\n",
       "X Education Forums                                object\n",
       "Newspaper                                         object\n",
       "Digital Advertisement                             object\n",
       "Through Recommendations                           object\n",
       "Receive More Updates About Our Courses            object\n",
       "Tags                                              object\n",
       "Lead Quality                                      object\n",
       "Update me on Supply Chain Content                 object\n",
       "Get updates on DM Content                         object\n",
       "Lead Profile                                      object\n",
       "City                                              object\n",
       "Asymmetrique Activity Index                       object\n",
       "Asymmetrique Profile Index                        object\n",
       "Asymmetrique Activity Score                      float64\n",
       "Asymmetrique Profile Score                       float64\n",
       "I agree to pay the amount through cheque          object\n",
       "A free copy of Mastering The Interview            object\n",
       "Last Notable Activity                             object\n",
       "dtype: object"
      ]
     },
     "metadata": {},
     "execution_count": 6
    }
   ],
   "metadata": {}
  },
  {
   "cell_type": "code",
   "execution_count": 7,
   "source": [
    "score.shape"
   ],
   "outputs": [
    {
     "output_type": "execute_result",
     "data": {
      "text/plain": [
       "(9240, 37)"
      ]
     },
     "metadata": {},
     "execution_count": 7
    }
   ],
   "metadata": {}
  },
  {
   "cell_type": "code",
   "execution_count": 8,
   "source": [
    "score.info()"
   ],
   "outputs": [
    {
     "output_type": "stream",
     "name": "stdout",
     "text": [
      "<class 'pandas.core.frame.DataFrame'>\n",
      "RangeIndex: 9240 entries, 0 to 9239\n",
      "Data columns (total 37 columns):\n",
      " #   Column                                         Non-Null Count  Dtype  \n",
      "---  ------                                         --------------  -----  \n",
      " 0   Prospect ID                                    9240 non-null   object \n",
      " 1   Lead Number                                    9240 non-null   int64  \n",
      " 2   Lead Origin                                    9240 non-null   object \n",
      " 3   Lead Source                                    9204 non-null   object \n",
      " 4   Do Not Email                                   9240 non-null   object \n",
      " 5   Do Not Call                                    9240 non-null   object \n",
      " 6   Converted                                      9240 non-null   int64  \n",
      " 7   TotalVisits                                    9103 non-null   float64\n",
      " 8   Total Time Spent on Website                    9240 non-null   int64  \n",
      " 9   Page Views Per Visit                           9103 non-null   float64\n",
      " 10  Last Activity                                  9137 non-null   object \n",
      " 11  Country                                        6779 non-null   object \n",
      " 12  Specialization                                 7802 non-null   object \n",
      " 13  How did you hear about X Education             7033 non-null   object \n",
      " 14  What is your current occupation                6550 non-null   object \n",
      " 15  What matters most to you in choosing a course  6531 non-null   object \n",
      " 16  Search                                         9240 non-null   object \n",
      " 17  Magazine                                       9240 non-null   object \n",
      " 18  Newspaper Article                              9240 non-null   object \n",
      " 19  X Education Forums                             9240 non-null   object \n",
      " 20  Newspaper                                      9240 non-null   object \n",
      " 21  Digital Advertisement                          9240 non-null   object \n",
      " 22  Through Recommendations                        9240 non-null   object \n",
      " 23  Receive More Updates About Our Courses         9240 non-null   object \n",
      " 24  Tags                                           5887 non-null   object \n",
      " 25  Lead Quality                                   4473 non-null   object \n",
      " 26  Update me on Supply Chain Content              9240 non-null   object \n",
      " 27  Get updates on DM Content                      9240 non-null   object \n",
      " 28  Lead Profile                                   6531 non-null   object \n",
      " 29  City                                           7820 non-null   object \n",
      " 30  Asymmetrique Activity Index                    5022 non-null   object \n",
      " 31  Asymmetrique Profile Index                     5022 non-null   object \n",
      " 32  Asymmetrique Activity Score                    5022 non-null   float64\n",
      " 33  Asymmetrique Profile Score                     5022 non-null   float64\n",
      " 34  I agree to pay the amount through cheque       9240 non-null   object \n",
      " 35  A free copy of Mastering The Interview         9240 non-null   object \n",
      " 36  Last Notable Activity                          9240 non-null   object \n",
      "dtypes: float64(4), int64(3), object(30)\n",
      "memory usage: 2.6+ MB\n"
     ]
    }
   ],
   "metadata": {}
  },
  {
   "cell_type": "code",
   "execution_count": 9,
   "source": [
    "score.describe()"
   ],
   "outputs": [
    {
     "output_type": "execute_result",
     "data": {
      "text/plain": [
       "         Lead Number    Converted  TotalVisits  Total Time Spent on Website  \\\n",
       "count    9240.000000  9240.000000  9103.000000                  9240.000000   \n",
       "mean   617188.435606     0.385390     3.445238                   487.698268   \n",
       "std     23405.995698     0.486714     4.854853                   548.021466   \n",
       "min    579533.000000     0.000000     0.000000                     0.000000   \n",
       "25%    596484.500000     0.000000     1.000000                    12.000000   \n",
       "50%    615479.000000     0.000000     3.000000                   248.000000   \n",
       "75%    637387.250000     1.000000     5.000000                   936.000000   \n",
       "max    660737.000000     1.000000   251.000000                  2272.000000   \n",
       "\n",
       "       Page Views Per Visit  Asymmetrique Activity Score  \\\n",
       "count           9103.000000                  5022.000000   \n",
       "mean               2.362820                    14.306252   \n",
       "std                2.161418                     1.386694   \n",
       "min                0.000000                     7.000000   \n",
       "25%                1.000000                    14.000000   \n",
       "50%                2.000000                    14.000000   \n",
       "75%                3.000000                    15.000000   \n",
       "max               55.000000                    18.000000   \n",
       "\n",
       "       Asymmetrique Profile Score  \n",
       "count                 5022.000000  \n",
       "mean                    16.344883  \n",
       "std                      1.811395  \n",
       "min                     11.000000  \n",
       "25%                     15.000000  \n",
       "50%                     16.000000  \n",
       "75%                     18.000000  \n",
       "max                     20.000000  "
      ],
      "text/html": [
       "<div>\n",
       "<style scoped>\n",
       "    .dataframe tbody tr th:only-of-type {\n",
       "        vertical-align: middle;\n",
       "    }\n",
       "\n",
       "    .dataframe tbody tr th {\n",
       "        vertical-align: top;\n",
       "    }\n",
       "\n",
       "    .dataframe thead th {\n",
       "        text-align: right;\n",
       "    }\n",
       "</style>\n",
       "<table border=\"1\" class=\"dataframe\">\n",
       "  <thead>\n",
       "    <tr style=\"text-align: right;\">\n",
       "      <th></th>\n",
       "      <th>Lead Number</th>\n",
       "      <th>Converted</th>\n",
       "      <th>TotalVisits</th>\n",
       "      <th>Total Time Spent on Website</th>\n",
       "      <th>Page Views Per Visit</th>\n",
       "      <th>Asymmetrique Activity Score</th>\n",
       "      <th>Asymmetrique Profile Score</th>\n",
       "    </tr>\n",
       "  </thead>\n",
       "  <tbody>\n",
       "    <tr>\n",
       "      <th>count</th>\n",
       "      <td>9240.000000</td>\n",
       "      <td>9240.000000</td>\n",
       "      <td>9103.000000</td>\n",
       "      <td>9240.000000</td>\n",
       "      <td>9103.000000</td>\n",
       "      <td>5022.000000</td>\n",
       "      <td>5022.000000</td>\n",
       "    </tr>\n",
       "    <tr>\n",
       "      <th>mean</th>\n",
       "      <td>617188.435606</td>\n",
       "      <td>0.385390</td>\n",
       "      <td>3.445238</td>\n",
       "      <td>487.698268</td>\n",
       "      <td>2.362820</td>\n",
       "      <td>14.306252</td>\n",
       "      <td>16.344883</td>\n",
       "    </tr>\n",
       "    <tr>\n",
       "      <th>std</th>\n",
       "      <td>23405.995698</td>\n",
       "      <td>0.486714</td>\n",
       "      <td>4.854853</td>\n",
       "      <td>548.021466</td>\n",
       "      <td>2.161418</td>\n",
       "      <td>1.386694</td>\n",
       "      <td>1.811395</td>\n",
       "    </tr>\n",
       "    <tr>\n",
       "      <th>min</th>\n",
       "      <td>579533.000000</td>\n",
       "      <td>0.000000</td>\n",
       "      <td>0.000000</td>\n",
       "      <td>0.000000</td>\n",
       "      <td>0.000000</td>\n",
       "      <td>7.000000</td>\n",
       "      <td>11.000000</td>\n",
       "    </tr>\n",
       "    <tr>\n",
       "      <th>25%</th>\n",
       "      <td>596484.500000</td>\n",
       "      <td>0.000000</td>\n",
       "      <td>1.000000</td>\n",
       "      <td>12.000000</td>\n",
       "      <td>1.000000</td>\n",
       "      <td>14.000000</td>\n",
       "      <td>15.000000</td>\n",
       "    </tr>\n",
       "    <tr>\n",
       "      <th>50%</th>\n",
       "      <td>615479.000000</td>\n",
       "      <td>0.000000</td>\n",
       "      <td>3.000000</td>\n",
       "      <td>248.000000</td>\n",
       "      <td>2.000000</td>\n",
       "      <td>14.000000</td>\n",
       "      <td>16.000000</td>\n",
       "    </tr>\n",
       "    <tr>\n",
       "      <th>75%</th>\n",
       "      <td>637387.250000</td>\n",
       "      <td>1.000000</td>\n",
       "      <td>5.000000</td>\n",
       "      <td>936.000000</td>\n",
       "      <td>3.000000</td>\n",
       "      <td>15.000000</td>\n",
       "      <td>18.000000</td>\n",
       "    </tr>\n",
       "    <tr>\n",
       "      <th>max</th>\n",
       "      <td>660737.000000</td>\n",
       "      <td>1.000000</td>\n",
       "      <td>251.000000</td>\n",
       "      <td>2272.000000</td>\n",
       "      <td>55.000000</td>\n",
       "      <td>18.000000</td>\n",
       "      <td>20.000000</td>\n",
       "    </tr>\n",
       "  </tbody>\n",
       "</table>\n",
       "</div>"
      ]
     },
     "metadata": {},
     "execution_count": 9
    }
   ],
   "metadata": {}
  },
  {
   "cell_type": "markdown",
   "source": [
    "## Checking Null values"
   ],
   "metadata": {}
  },
  {
   "cell_type": "code",
   "execution_count": 10,
   "source": [
    "score.isnull().sum()"
   ],
   "outputs": [
    {
     "output_type": "execute_result",
     "data": {
      "text/plain": [
       "Prospect ID                                         0\n",
       "Lead Number                                         0\n",
       "Lead Origin                                         0\n",
       "Lead Source                                        36\n",
       "Do Not Email                                        0\n",
       "Do Not Call                                         0\n",
       "Converted                                           0\n",
       "TotalVisits                                       137\n",
       "Total Time Spent on Website                         0\n",
       "Page Views Per Visit                              137\n",
       "Last Activity                                     103\n",
       "Country                                          2461\n",
       "Specialization                                   1438\n",
       "How did you hear about X Education               2207\n",
       "What is your current occupation                  2690\n",
       "What matters most to you in choosing a course    2709\n",
       "Search                                              0\n",
       "Magazine                                            0\n",
       "Newspaper Article                                   0\n",
       "X Education Forums                                  0\n",
       "Newspaper                                           0\n",
       "Digital Advertisement                               0\n",
       "Through Recommendations                             0\n",
       "Receive More Updates About Our Courses              0\n",
       "Tags                                             3353\n",
       "Lead Quality                                     4767\n",
       "Update me on Supply Chain Content                   0\n",
       "Get updates on DM Content                           0\n",
       "Lead Profile                                     2709\n",
       "City                                             1420\n",
       "Asymmetrique Activity Index                      4218\n",
       "Asymmetrique Profile Index                       4218\n",
       "Asymmetrique Activity Score                      4218\n",
       "Asymmetrique Profile Score                       4218\n",
       "I agree to pay the amount through cheque            0\n",
       "A free copy of Mastering The Interview              0\n",
       "Last Notable Activity                               0\n",
       "dtype: int64"
      ]
     },
     "metadata": {},
     "execution_count": 10
    }
   ],
   "metadata": {}
  },
  {
   "cell_type": "markdown",
   "source": [
    "###  Null values in percentage"
   ],
   "metadata": {}
  },
  {
   "cell_type": "code",
   "execution_count": 11,
   "source": [
    "percentage = (score.isnull().sum()/len(score))*100\r\n",
    "percentage.sort_values(ascending=False)"
   ],
   "outputs": [
    {
     "output_type": "execute_result",
     "data": {
      "text/plain": [
       "Lead Quality                                     51.590909\n",
       "Asymmetrique Profile Score                       45.649351\n",
       "Asymmetrique Activity Score                      45.649351\n",
       "Asymmetrique Profile Index                       45.649351\n",
       "Asymmetrique Activity Index                      45.649351\n",
       "Tags                                             36.287879\n",
       "What matters most to you in choosing a course    29.318182\n",
       "Lead Profile                                     29.318182\n",
       "What is your current occupation                  29.112554\n",
       "Country                                          26.634199\n",
       "How did you hear about X Education               23.885281\n",
       "Specialization                                   15.562771\n",
       "City                                             15.367965\n",
       "TotalVisits                                       1.482684\n",
       "Page Views Per Visit                              1.482684\n",
       "Last Activity                                     1.114719\n",
       "Lead Source                                       0.389610\n",
       "Do Not Email                                      0.000000\n",
       "Do Not Call                                       0.000000\n",
       "Converted                                         0.000000\n",
       "Total Time Spent on Website                       0.000000\n",
       "Lead Origin                                       0.000000\n",
       "Lead Number                                       0.000000\n",
       "Last Notable Activity                             0.000000\n",
       "Newspaper Article                                 0.000000\n",
       "Search                                            0.000000\n",
       "Magazine                                          0.000000\n",
       "A free copy of Mastering The Interview            0.000000\n",
       "X Education Forums                                0.000000\n",
       "Newspaper                                         0.000000\n",
       "Digital Advertisement                             0.000000\n",
       "Through Recommendations                           0.000000\n",
       "Receive More Updates About Our Courses            0.000000\n",
       "Update me on Supply Chain Content                 0.000000\n",
       "Get updates on DM Content                         0.000000\n",
       "I agree to pay the amount through cheque          0.000000\n",
       "Prospect ID                                       0.000000\n",
       "dtype: float64"
      ]
     },
     "metadata": {},
     "execution_count": 11
    }
   ],
   "metadata": {}
  },
  {
   "cell_type": "markdown",
   "source": [
    "### Removing duplicate rows"
   ],
   "metadata": {}
  },
  {
   "cell_type": "code",
   "execution_count": 12,
   "source": [
    "score.drop_duplicates(subset='Lead Number')\r\n",
    "score.shape"
   ],
   "outputs": [
    {
     "output_type": "execute_result",
     "data": {
      "text/plain": [
       "(9240, 37)"
      ]
     },
     "metadata": {},
     "execution_count": 12
    }
   ],
   "metadata": {}
  },
  {
   "cell_type": "markdown",
   "source": [
    "### Checking the number of unique values in a column"
   ],
   "metadata": {}
  },
  {
   "cell_type": "code",
   "execution_count": 13,
   "source": [
    "score.nunique()"
   ],
   "outputs": [
    {
     "output_type": "execute_result",
     "data": {
      "text/plain": [
       "Prospect ID                                      9240\n",
       "Lead Number                                      9240\n",
       "Lead Origin                                         5\n",
       "Lead Source                                        21\n",
       "Do Not Email                                        2\n",
       "Do Not Call                                         2\n",
       "Converted                                           2\n",
       "TotalVisits                                        41\n",
       "Total Time Spent on Website                      1731\n",
       "Page Views Per Visit                              114\n",
       "Last Activity                                      17\n",
       "Country                                            38\n",
       "Specialization                                     19\n",
       "How did you hear about X Education                 10\n",
       "What is your current occupation                     6\n",
       "What matters most to you in choosing a course       3\n",
       "Search                                              2\n",
       "Magazine                                            1\n",
       "Newspaper Article                                   2\n",
       "X Education Forums                                  2\n",
       "Newspaper                                           2\n",
       "Digital Advertisement                               2\n",
       "Through Recommendations                             2\n",
       "Receive More Updates About Our Courses              1\n",
       "Tags                                               26\n",
       "Lead Quality                                        5\n",
       "Update me on Supply Chain Content                   1\n",
       "Get updates on DM Content                           1\n",
       "Lead Profile                                        6\n",
       "City                                                7\n",
       "Asymmetrique Activity Index                         3\n",
       "Asymmetrique Profile Index                          3\n",
       "Asymmetrique Activity Score                        12\n",
       "Asymmetrique Profile Score                         10\n",
       "I agree to pay the amount through cheque            1\n",
       "A free copy of Mastering The Interview              2\n",
       "Last Notable Activity                              16\n",
       "dtype: int64"
      ]
     },
     "metadata": {},
     "execution_count": 13
    }
   ],
   "metadata": {}
  },
  {
   "cell_type": "markdown",
   "source": [
    "Those features which have only one unique value are :\n",
    "#### - Magazine\n",
    "#### - Recieve More updates about the course\n",
    "#### - Update me on Supply chain content\n",
    "#### - Get updates on DM content\n",
    "#### - I agree to pay the amount through cheque\n",
    "These features show no variance and thus all have chosen one option, thus this feature doesnt make any impact or difference."
   ],
   "metadata": {}
  },
  {
   "cell_type": "markdown",
   "source": [
    "### Dropping the columns"
   ],
   "metadata": {}
  },
  {
   "cell_type": "code",
   "execution_count": 14,
   "source": [
    "score=score.drop([\"Receive More Updates About Our Courses\",\"Magazine\",\"Update me on Supply Chain Content\",\"Get updates on DM Content\",\"I agree to pay the amount through cheque\"],axis=1)"
   ],
   "outputs": [],
   "metadata": {
    "collapsed": true
   }
  },
  {
   "cell_type": "code",
   "execution_count": 15,
   "source": [
    "score = score.drop(['Asymmetrique Profile Score','Asymmetrique Activity Score','Prospect ID','Lead Number'],axis=1)"
   ],
   "outputs": [],
   "metadata": {
    "collapsed": true
   }
  },
  {
   "cell_type": "code",
   "execution_count": 16,
   "source": [
    "score.shape"
   ],
   "outputs": [
    {
     "output_type": "execute_result",
     "data": {
      "text/plain": [
       "(9240, 28)"
      ]
     },
     "metadata": {},
     "execution_count": 16
    }
   ],
   "metadata": {}
  },
  {
   "cell_type": "markdown",
   "source": [
    "## EDA"
   ],
   "metadata": {}
  },
  {
   "cell_type": "markdown",
   "source": [
    "### 1 -    Lead Source column"
   ],
   "metadata": {}
  },
  {
   "cell_type": "code",
   "execution_count": 17,
   "source": [
    "score['Lead Source'].describe()"
   ],
   "outputs": [
    {
     "output_type": "execute_result",
     "data": {
      "text/plain": [
       "count       9204\n",
       "unique        21\n",
       "top       Google\n",
       "freq        2868\n",
       "Name: Lead Source, dtype: object"
      ]
     },
     "metadata": {},
     "execution_count": 17
    }
   ],
   "metadata": {}
  },
  {
   "cell_type": "markdown",
   "source": [
    "From this we can observe that the lead source is google."
   ],
   "metadata": {}
  },
  {
   "cell_type": "code",
   "execution_count": 18,
   "source": [
    "import seaborn as sns\r\n",
    "from matplotlib.pyplot import xticks"
   ],
   "outputs": [],
   "metadata": {
    "collapsed": true
   }
  },
  {
   "cell_type": "code",
   "execution_count": 19,
   "source": [
    "sns.countplot(x = 'Lead Source',hue = 'Converted',data = score)\r\n",
    "xticks(rotation = 90)"
   ],
   "outputs": [
    {
     "output_type": "execute_result",
     "data": {
      "text/plain": [
       "(array([ 0,  1,  2,  3,  4,  5,  6,  7,  8,  9, 10, 11, 12, 13, 14, 15, 16,\n",
       "        17, 18, 19, 20]),\n",
       " <a list of 21 Text xticklabel objects>)"
      ]
     },
     "metadata": {},
     "execution_count": 19
    },
    {
     "output_type": "display_data",
     "data": {
      "text/plain": [
       "<Figure size 432x288 with 1 Axes>"
      ],
      "image/png": "[encoded data removed]"
     },
     "metadata": {
      "needs_background": "light"
     }
    }
   ],
   "metadata": {}
  },
  {
   "cell_type": "markdown",
   "source": [
    "### Removing the rows which contains null values in lead source column"
   ],
   "metadata": {}
  },
  {
   "cell_type": "code",
   "execution_count": 20,
   "source": [
    "score = score[~pd.isnull(score['Lead Source'])]\r\n",
    "score.shape"
   ],
   "outputs": [
    {
     "output_type": "execute_result",
     "data": {
      "text/plain": [
       "(9204, 28)"
      ]
     },
     "metadata": {},
     "execution_count": 20
    }
   ],
   "metadata": {}
  },
  {
   "cell_type": "markdown",
   "source": [
    "### 2 - Lead Quality column"
   ],
   "metadata": {}
  },
  {
   "cell_type": "code",
   "execution_count": 21,
   "source": [
    "score['Lead Quality'].describe()"
   ],
   "outputs": [
    {
     "output_type": "execute_result",
     "data": {
      "text/plain": [
       "count         4451\n",
       "unique           5\n",
       "top       Might be\n",
       "freq          1545\n",
       "Name: Lead Quality, dtype: object"
      ]
     },
     "metadata": {},
     "execution_count": 21
    }
   ],
   "metadata": {}
  },
  {
   "cell_type": "markdown",
   "source": [
    "We can say that \"Might be\" is the top lead quality."
   ],
   "metadata": {}
  },
  {
   "cell_type": "code",
   "execution_count": 22,
   "source": [
    "sns.countplot(score['Lead Quality'])"
   ],
   "outputs": [
    {
     "output_type": "execute_result",
     "data": {
      "text/plain": [
       "<matplotlib.axes._subplots.AxesSubplot at 0x1adb004dd30>"
      ]
     },
     "metadata": {},
     "execution_count": 22
    },
    {
     "output_type": "display_data",
     "data": {
      "text/plain": [
       "<Figure size 432x288 with 1 Axes>"
      ],
      "image/png": "[encoded data removed]"
     },
     "metadata": {
      "needs_background": "light"
     }
    }
   ],
   "metadata": {}
  },
  {
   "cell_type": "code",
   "execution_count": 23,
   "source": [
    "score['Lead Quality'].unique()"
   ],
   "outputs": [
    {
     "output_type": "execute_result",
     "data": {
      "text/plain": [
       "array(['Low in Relevance', nan, 'Might be', 'Not Sure', 'Worst',\n",
       "       'High in Relevance'], dtype=object)"
      ]
     },
     "metadata": {},
     "execution_count": 23
    }
   ],
   "metadata": {}
  },
  {
   "cell_type": "markdown",
   "source": [
    "Now we will replace the 55.1% null values to \"Unknown\""
   ],
   "metadata": {}
  },
  {
   "cell_type": "code",
   "execution_count": 24,
   "source": [
    "score['Lead Quality'] = score['Lead Quality'].replace(np.nan, 'Unknown')"
   ],
   "outputs": [],
   "metadata": {
    "collapsed": true
   }
  },
  {
   "cell_type": "code",
   "execution_count": 26,
   "source": [
    "sns.countplot('Lead Quality',hue = 'Converted',data = score)\r\n",
    "xticks(rotation = 90)"
   ],
   "outputs": [
    {
     "output_type": "execute_result",
     "data": {
      "text/plain": [
       "(array([0, 1, 2, 3, 4, 5]), <a list of 6 Text xticklabel objects>)"
      ]
     },
     "metadata": {},
     "execution_count": 26
    },
    {
     "output_type": "display_data",
     "data": {
      "text/plain": [
       "<Figure size 432x288 with 1 Axes>"
      ],
      "image/png": "[encoded data removed]"
     },
     "metadata": {
      "needs_background": "light"
     }
    }
   ],
   "metadata": {}
  },
  {
   "cell_type": "markdown",
   "source": [
    "### 3 - Specialization"
   ],
   "metadata": {}
  },
  {
   "cell_type": "code",
   "execution_count": 27,
   "source": [
    "score['Specialization'].value_counts()"
   ],
   "outputs": [
    {
     "output_type": "execute_result",
     "data": {
      "text/plain": [
       "Select                               1914\n",
       "Finance Management                    973\n",
       "Human Resource Management             847\n",
       "Marketing Management                  837\n",
       "Operations Management                 502\n",
       "Business Administration               403\n",
       "IT Projects Management                366\n",
       "Supply Chain Management               349\n",
       "Banking, Investment And Insurance     338\n",
       "Travel and Tourism                    203\n",
       "Media and Advertising                 203\n",
       "International Business                178\n",
       "Healthcare Management                 158\n",
       "Hospitality Management                114\n",
       "E-COMMERCE                            111\n",
       "Retail Management                     100\n",
       "Rural and Agribusiness                 73\n",
       "E-Business                             57\n",
       "Services Excellence                    40\n",
       "Name: Specialization, dtype: int64"
      ]
     },
     "metadata": {},
     "execution_count": 27
    }
   ],
   "metadata": {}
  },
  {
   "cell_type": "code",
   "execution_count": 28,
   "source": [
    "score['Specialization'].isnull().sum()"
   ],
   "outputs": [
    {
     "output_type": "execute_result",
     "data": {
      "text/plain": [
       "1438"
      ]
     },
     "metadata": {},
     "execution_count": 28
    }
   ],
   "metadata": {}
  },
  {
   "cell_type": "code",
   "execution_count": 29,
   "source": [
    "score['Specialization'].unique()"
   ],
   "outputs": [
    {
     "output_type": "execute_result",
     "data": {
      "text/plain": [
       "array(['Select', 'Business Administration', 'Media and Advertising', nan,\n",
       "       'Supply Chain Management', 'IT Projects Management',\n",
       "       'Finance Management', 'Travel and Tourism',\n",
       "       'Human Resource Management', 'Marketing Management',\n",
       "       'Banking, Investment And Insurance', 'International Business',\n",
       "       'E-COMMERCE', 'Operations Management', 'Retail Management',\n",
       "       'Services Excellence', 'Hospitality Management',\n",
       "       'Rural and Agribusiness', 'Healthcare Management', 'E-Business'],\n",
       "      dtype=object)"
      ]
     },
     "metadata": {},
     "execution_count": 29
    }
   ],
   "metadata": {}
  },
  {
   "cell_type": "markdown",
   "source": [
    "Filling the null values - "
   ],
   "metadata": {}
  },
  {
   "cell_type": "code",
   "execution_count": 30,
   "source": [
    "score['Specialization'] = score['Specialization'].fillna('Others')\r\n",
    "score['Specialization'].value_counts()"
   ],
   "outputs": [
    {
     "output_type": "execute_result",
     "data": {
      "text/plain": [
       "Select                               1914\n",
       "Others                               1438\n",
       "Finance Management                    973\n",
       "Human Resource Management             847\n",
       "Marketing Management                  837\n",
       "Operations Management                 502\n",
       "Business Administration               403\n",
       "IT Projects Management                366\n",
       "Supply Chain Management               349\n",
       "Banking, Investment And Insurance     338\n",
       "Media and Advertising                 203\n",
       "Travel and Tourism                    203\n",
       "International Business                178\n",
       "Healthcare Management                 158\n",
       "Hospitality Management                114\n",
       "E-COMMERCE                            111\n",
       "Retail Management                     100\n",
       "Rural and Agribusiness                 73\n",
       "E-Business                             57\n",
       "Services Excellence                    40\n",
       "Name: Specialization, dtype: int64"
      ]
     },
     "metadata": {},
     "execution_count": 30
    }
   ],
   "metadata": {}
  },
  {
   "cell_type": "code",
   "execution_count": 31,
   "source": [
    "sns.countplot('Specialization',hue = 'Converted',data = score)\r\n",
    "xticks(rotation = 90)"
   ],
   "outputs": [
    {
     "output_type": "execute_result",
     "data": {
      "text/plain": [
       "(array([ 0,  1,  2,  3,  4,  5,  6,  7,  8,  9, 10, 11, 12, 13, 14, 15, 16,\n",
       "        17, 18, 19]),\n",
       " <a list of 20 Text xticklabel objects>)"
      ]
     },
     "metadata": {},
     "execution_count": 31
    },
    {
     "output_type": "display_data",
     "data": {
      "text/plain": [
       "<Figure size 432x288 with 1 Axes>"
      ],
      "image/png": "[encoded data removed]"
     },
     "metadata": {
      "needs_background": "light"
     }
    }
   ],
   "metadata": {}
  },
  {
   "cell_type": "markdown",
   "source": [
    "###    4 -  \" What is your current occupation \" "
   ],
   "metadata": {}
  },
  {
   "cell_type": "code",
   "execution_count": 32,
   "source": [
    "score['What is your current occupation'].isnull().sum()"
   ],
   "outputs": [
    {
     "output_type": "execute_result",
     "data": {
      "text/plain": [
       "2690"
      ]
     },
     "metadata": {},
     "execution_count": 32
    }
   ],
   "metadata": {}
  },
  {
   "cell_type": "code",
   "execution_count": 33,
   "source": [
    "score['What is your current occupation'].value_counts()"
   ],
   "outputs": [
    {
     "output_type": "execute_result",
     "data": {
      "text/plain": [
       "Unemployed              5567\n",
       "Working Professional     704\n",
       "Student                  209\n",
       "Other                     16\n",
       "Housewife                 10\n",
       "Businessman                8\n",
       "Name: What is your current occupation, dtype: int64"
      ]
     },
     "metadata": {},
     "execution_count": 33
    }
   ],
   "metadata": {}
  },
  {
   "cell_type": "code",
   "execution_count": 34,
   "source": [
    "score['What is your current occupation'].unique()"
   ],
   "outputs": [
    {
     "output_type": "execute_result",
     "data": {
      "text/plain": [
       "array(['Unemployed', 'Student', nan, 'Working Professional',\n",
       "       'Businessman', 'Other', 'Housewife'], dtype=object)"
      ]
     },
     "metadata": {},
     "execution_count": 34
    }
   ],
   "metadata": {}
  },
  {
   "cell_type": "markdown",
   "source": [
    "Filling the null values -"
   ],
   "metadata": {}
  },
  {
   "cell_type": "code",
   "execution_count": 35,
   "source": [
    "score['What is your current occupation'] = score['What is your current occupation'].fillna('Unemployed')"
   ],
   "outputs": [],
   "metadata": {
    "collapsed": true
   }
  },
  {
   "cell_type": "code",
   "execution_count": 36,
   "source": [
    "score['What is your current occupation'].value_counts()"
   ],
   "outputs": [
    {
     "output_type": "execute_result",
     "data": {
      "text/plain": [
       "Unemployed              8257\n",
       "Working Professional     704\n",
       "Student                  209\n",
       "Other                     16\n",
       "Housewife                 10\n",
       "Businessman                8\n",
       "Name: What is your current occupation, dtype: int64"
      ]
     },
     "metadata": {},
     "execution_count": 36
    }
   ],
   "metadata": {}
  },
  {
   "cell_type": "code",
   "execution_count": 38,
   "source": [
    "sns.countplot('What is your current occupation',hue = 'Converted',data = score)\r\n",
    "xticks(rotation = 90)"
   ],
   "outputs": [
    {
     "output_type": "execute_result",
     "data": {
      "text/plain": [
       "(array([0, 1, 2, 3, 4, 5]), <a list of 6 Text xticklabel objects>)"
      ]
     },
     "metadata": {},
     "execution_count": 38
    },
    {
     "output_type": "display_data",
     "data": {
      "text/plain": [
       "<Figure size 432x288 with 1 Axes>"
      ],
      "image/png": "[encoded data removed]"
     },
     "metadata": {
      "needs_background": "light"
     }
    }
   ],
   "metadata": {}
  },
  {
   "cell_type": "markdown",
   "source": [
    "From the graph above we can see that most of the people are \"unemployed\"."
   ],
   "metadata": {}
  },
  {
   "cell_type": "markdown",
   "source": [
    "### 5 -  \" What matters most to you in choosing a course \""
   ],
   "metadata": {}
  },
  {
   "cell_type": "code",
   "execution_count": 39,
   "source": [
    "score['What matters most to you in choosing a course'].isnull().sum()"
   ],
   "outputs": [
    {
     "output_type": "execute_result",
     "data": {
      "text/plain": [
       "2709"
      ]
     },
     "metadata": {},
     "execution_count": 39
    }
   ],
   "metadata": {}
  },
  {
   "cell_type": "code",
   "execution_count": 40,
   "source": [
    "score['What matters most to you in choosing a course'].value_counts()"
   ],
   "outputs": [
    {
     "output_type": "execute_result",
     "data": {
      "text/plain": [
       "Better Career Prospects      6492\n",
       "Flexibility & Convenience       2\n",
       "Other                           1\n",
       "Name: What matters most to you in choosing a course, dtype: int64"
      ]
     },
     "metadata": {},
     "execution_count": 40
    }
   ],
   "metadata": {}
  },
  {
   "cell_type": "code",
   "execution_count": 41,
   "source": [
    "score['What matters most to you in choosing a course'].unique()"
   ],
   "outputs": [
    {
     "output_type": "execute_result",
     "data": {
      "text/plain": [
       "array(['Better Career Prospects', nan, 'Flexibility & Convenience',\n",
       "       'Other'], dtype=object)"
      ]
     },
     "metadata": {},
     "execution_count": 41
    }
   ],
   "metadata": {}
  },
  {
   "cell_type": "code",
   "execution_count": 42,
   "source": [
    "score['What matters most to you in choosing a course'] = score['What matters most to you in choosing a course'].replace(np.nan,'Better Career Prospects')"
   ],
   "outputs": [],
   "metadata": {
    "collapsed": true
   }
  },
  {
   "cell_type": "code",
   "execution_count": 43,
   "source": [
    "sns.countplot(score['What matters most to you in choosing a course'])\r\n",
    "xticks(rotation = 90)"
   ],
   "outputs": [
    {
     "output_type": "execute_result",
     "data": {
      "text/plain": [
       "(array([0, 1, 2]), <a list of 3 Text xticklabel objects>)"
      ]
     },
     "metadata": {},
     "execution_count": 43
    },
    {
     "output_type": "display_data",
     "data": {
      "text/plain": [
       "<Figure size 432x288 with 1 Axes>"
      ],
      "image/png": "[encoded data removed]"
     },
     "metadata": {
      "needs_background": "light"
     }
    }
   ],
   "metadata": {}
  },
  {
   "cell_type": "markdown",
   "source": [
    "### 6 - \" How did you hear about X Education \""
   ],
   "metadata": {}
  },
  {
   "cell_type": "code",
   "execution_count": 44,
   "source": [
    "score['How did you hear about X Education'].unique()"
   ],
   "outputs": [
    {
     "output_type": "execute_result",
     "data": {
      "text/plain": [
       "array(['Select', 'Word Of Mouth', 'Other', nan, 'Online Search',\n",
       "       'Multiple Sources', 'Advertisements', 'Student of SomeSchool',\n",
       "       'Email', 'Social Media', 'SMS'], dtype=object)"
      ]
     },
     "metadata": {},
     "execution_count": 44
    }
   ],
   "metadata": {}
  },
  {
   "cell_type": "code",
   "execution_count": 45,
   "source": [
    "score['How did you hear about X Education'].value_counts()"
   ],
   "outputs": [
    {
     "output_type": "execute_result",
     "data": {
      "text/plain": [
       "Select                   5009\n",
       "Online Search             808\n",
       "Word Of Mouth             347\n",
       "Student of SomeSchool     310\n",
       "Other                     186\n",
       "Multiple Sources          152\n",
       "Advertisements             70\n",
       "Social Media               66\n",
       "Email                      26\n",
       "SMS                        23\n",
       "Name: How did you hear about X Education, dtype: int64"
      ]
     },
     "metadata": {},
     "execution_count": 45
    }
   ],
   "metadata": {}
  },
  {
   "cell_type": "code",
   "execution_count": 46,
   "source": [
    "score['How did you hear about X Education'] = score['How did you hear about X Education'].replace('Select','Not Mentioned')"
   ],
   "outputs": [],
   "metadata": {
    "collapsed": true
   }
  },
  {
   "cell_type": "code",
   "execution_count": 47,
   "source": [
    "score['How did you hear about X Education'] = score['How did you hear about X Education'].fillna('Not Mentioned')"
   ],
   "outputs": [],
   "metadata": {
    "collapsed": true
   }
  },
  {
   "cell_type": "code",
   "execution_count": 49,
   "source": [
    "sns.countplot('How did you hear about X Education',hue = 'Converted',data = score)\r\n",
    "xticks(rotation = 90)"
   ],
   "outputs": [
    {
     "output_type": "execute_result",
     "data": {
      "text/plain": [
       "(array([0, 1, 2, 3, 4, 5, 6, 7, 8, 9]), <a list of 10 Text xticklabel objects>)"
      ]
     },
     "metadata": {},
     "execution_count": 49
    },
    {
     "output_type": "display_data",
     "data": {
      "text/plain": [
       "<Figure size 432x288 with 1 Axes>"
      ],
      "image/png": "[encoded data removed]"
     },
     "metadata": {
      "needs_background": "light"
     }
    }
   ],
   "metadata": {}
  },
  {
   "cell_type": "markdown",
   "source": [
    "### 7 - Lead Profile "
   ],
   "metadata": {}
  },
  {
   "cell_type": "code",
   "execution_count": 50,
   "source": [
    "score['Lead Profile'].value_counts()"
   ],
   "outputs": [
    {
     "output_type": "execute_result",
     "data": {
      "text/plain": [
       "Select                         4115\n",
       "Potential Lead                 1608\n",
       "Other Leads                     487\n",
       "Student of SomeSchool           241\n",
       "Lateral Student                  24\n",
       "Dual Specialization Student      20\n",
       "Name: Lead Profile, dtype: int64"
      ]
     },
     "metadata": {},
     "execution_count": 50
    }
   ],
   "metadata": {}
  },
  {
   "cell_type": "code",
   "execution_count": 51,
   "source": [
    "score['Lead Profile'].unique()"
   ],
   "outputs": [
    {
     "output_type": "execute_result",
     "data": {
      "text/plain": [
       "array(['Select', 'Potential Lead', nan, 'Other Leads', 'Lateral Student',\n",
       "       'Dual Specialization Student', 'Student of SomeSchool'],\n",
       "      dtype=object)"
      ]
     },
     "metadata": {},
     "execution_count": 51
    }
   ],
   "metadata": {}
  },
  {
   "cell_type": "markdown",
   "source": [
    "Filling the null values and replacing the \"select\" values to \"Unknown\"."
   ],
   "metadata": {}
  },
  {
   "cell_type": "code",
   "execution_count": 52,
   "source": [
    "score['Lead Profile'].fillna(\"Unknown\", inplace = True)\r\n",
    "score['Lead Profile'].replace('Select', 'Unknown', inplace =True)"
   ],
   "outputs": [],
   "metadata": {
    "collapsed": true
   }
  },
  {
   "cell_type": "code",
   "execution_count": 54,
   "source": [
    "sns.countplot('Lead Profile',hue = 'Converted',data = score)\r\n",
    "xticks(rotation = 90)"
   ],
   "outputs": [
    {
     "output_type": "execute_result",
     "data": {
      "text/plain": [
       "(array([0, 1, 2, 3, 4, 5]), <a list of 6 Text xticklabel objects>)"
      ]
     },
     "metadata": {},
     "execution_count": 54
    },
    {
     "output_type": "display_data",
     "data": {
      "text/plain": [
       "<Figure size 432x288 with 1 Axes>"
      ],
      "image/png": "[encoded data removed]"
     },
     "metadata": {
      "needs_background": "light"
     }
    }
   ],
   "metadata": {}
  },
  {
   "cell_type": "markdown",
   "source": [
    "### 8 -  Tags "
   ],
   "metadata": {}
  },
  {
   "cell_type": "code",
   "execution_count": 55,
   "source": [
    "score['Tags'].unique()"
   ],
   "outputs": [
    {
     "output_type": "execute_result",
     "data": {
      "text/plain": [
       "array(['Interested in other courses', 'Ringing',\n",
       "       'Will revert after reading the email', nan, 'Lost to EINS',\n",
       "       'In confusion whether part time or DLP', 'Busy', 'switched off',\n",
       "       'in touch with EINS', 'Already a student',\n",
       "       'Diploma holder (Not Eligible)', 'Graduation in progress',\n",
       "       'Closed by Horizzon', 'number not provided', 'opp hangup',\n",
       "       'Not doing further education', 'invalid number',\n",
       "       'wrong number given', 'Interested  in full time MBA',\n",
       "       'Still Thinking', 'Lost to Others',\n",
       "       'Shall take in the next coming month', 'Lateral student',\n",
       "       'Interested in Next batch', 'Recognition issue (DEC approval)',\n",
       "       'Want to take admission but has financial problems',\n",
       "       'University not recognized'], dtype=object)"
      ]
     },
     "metadata": {},
     "execution_count": 55
    }
   ],
   "metadata": {}
  },
  {
   "cell_type": "markdown",
   "source": [
    "Filling the null values - "
   ],
   "metadata": {}
  },
  {
   "cell_type": "code",
   "execution_count": 56,
   "source": [
    "score['Tags'].fillna(\"Unknown\", inplace = True)"
   ],
   "outputs": [],
   "metadata": {
    "collapsed": true
   }
  },
  {
   "cell_type": "code",
   "execution_count": 57,
   "source": [
    "sns.countplot('Tags',hue ='Converted',data=score)\r\n",
    "xticks(rotation = 90)"
   ],
   "outputs": [
    {
     "output_type": "execute_result",
     "data": {
      "text/plain": [
       "(array([ 0,  1,  2,  3,  4,  5,  6,  7,  8,  9, 10, 11, 12, 13, 14, 15, 16,\n",
       "        17, 18, 19, 20, 21, 22, 23, 24, 25, 26]),\n",
       " <a list of 27 Text xticklabel objects>)"
      ]
     },
     "metadata": {},
     "execution_count": 57
    },
    {
     "output_type": "display_data",
     "data": {
      "text/plain": [
       "<Figure size 432x288 with 1 Axes>"
      ],
      "image/png": "[encoded data removed]"
     },
     "metadata": {
      "needs_background": "light"
     }
    }
   ],
   "metadata": {}
  },
  {
   "cell_type": "markdown",
   "source": [
    "### 9 -  Last Activity"
   ],
   "metadata": {}
  },
  {
   "cell_type": "code",
   "execution_count": 58,
   "source": [
    "score['Last Activity'].unique()"
   ],
   "outputs": [
    {
     "output_type": "execute_result",
     "data": {
      "text/plain": [
       "array(['Page Visited on Website', 'Email Opened', 'Unreachable',\n",
       "       'Converted to Lead', 'Olark Chat Conversation', 'Email Bounced',\n",
       "       'Email Link Clicked', 'Form Submitted on Website', 'Unsubscribed',\n",
       "       'Had a Phone Conversation', 'View in browser link Clicked', nan,\n",
       "       'Approached upfront', 'SMS Sent', 'Visited Booth in Tradeshow',\n",
       "       'Resubscribed to emails', 'Email Received', 'Email Marked Spam'],\n",
       "      dtype=object)"
      ]
     },
     "metadata": {},
     "execution_count": 58
    }
   ],
   "metadata": {}
  },
  {
   "cell_type": "code",
   "execution_count": 59,
   "source": [
    "score['Last Activity'].fillna(\"Unknown\", inplace = True)\r\n",
    "score['Last Activity'].value_counts()"
   ],
   "outputs": [
    {
     "output_type": "execute_result",
     "data": {
      "text/plain": [
       "Email Opened                    3432\n",
       "SMS Sent                        2723\n",
       "Olark Chat Conversation          973\n",
       "Page Visited on Website          640\n",
       "Converted to Lead                428\n",
       "Email Bounced                    321\n",
       "Email Link Clicked               267\n",
       "Form Submitted on Website        116\n",
       "Unknown                          101\n",
       "Unreachable                       93\n",
       "Unsubscribed                      59\n",
       "Had a Phone Conversation          30\n",
       "Approached upfront                 9\n",
       "View in browser link Clicked       6\n",
       "Email Marked Spam                  2\n",
       "Email Received                     2\n",
       "Resubscribed to emails             1\n",
       "Visited Booth in Tradeshow         1\n",
       "Name: Last Activity, dtype: int64"
      ]
     },
     "metadata": {},
     "execution_count": 59
    }
   ],
   "metadata": {}
  },
  {
   "cell_type": "code",
   "execution_count": 60,
   "source": [
    "sns.countplot(score['Last Activity'])\r\n",
    "xticks(rotation = 90)"
   ],
   "outputs": [
    {
     "output_type": "execute_result",
     "data": {
      "text/plain": [
       "(array([ 0,  1,  2,  3,  4,  5,  6,  7,  8,  9, 10, 11, 12, 13, 14, 15, 16,\n",
       "        17]),\n",
       " <a list of 18 Text xticklabel objects>)"
      ]
     },
     "metadata": {},
     "execution_count": 60
    },
    {
     "output_type": "display_data",
     "data": {
      "text/plain": [
       "<Figure size 432x288 with 1 Axes>"
      ],
      "image/png": "[encoded data removed]"
     },
     "metadata": {
      "needs_background": "light"
     }
    }
   ],
   "metadata": {}
  },
  {
   "cell_type": "markdown",
   "source": [
    "### City -"
   ],
   "metadata": {}
  },
  {
   "cell_type": "code",
   "execution_count": 61,
   "source": [
    "score['City'].unique()"
   ],
   "outputs": [
    {
     "output_type": "execute_result",
     "data": {
      "text/plain": [
       "array(['Select', 'Mumbai', nan, 'Thane & Outskirts', 'Other Metro Cities',\n",
       "       'Other Cities', 'Other Cities of Maharashtra', 'Tier II Cities'],\n",
       "      dtype=object)"
      ]
     },
     "metadata": {},
     "execution_count": 61
    }
   ],
   "metadata": {}
  },
  {
   "cell_type": "markdown",
   "source": [
    "Filling the null values and replacing \"select\" values to \"Unknown\"."
   ],
   "metadata": {}
  },
  {
   "cell_type": "code",
   "execution_count": 62,
   "source": [
    "score['City'].fillna(\"Unknown\", inplace = True)\r\n",
    "score['City'].replace('Select', 'Unknown', inplace =True)\r\n",
    "score['City'].value_counts()"
   ],
   "outputs": [
    {
     "output_type": "execute_result",
     "data": {
      "text/plain": [
       "Unknown                        3638\n",
       "Mumbai                         3220\n",
       "Thane & Outskirts               751\n",
       "Other Cities                    686\n",
       "Other Cities of Maharashtra     456\n",
       "Other Metro Cities              379\n",
       "Tier II Cities                   74\n",
       "Name: City, dtype: int64"
      ]
     },
     "metadata": {},
     "execution_count": 62
    }
   ],
   "metadata": {}
  },
  {
   "cell_type": "code",
   "execution_count": 63,
   "source": [
    "sns.countplot(x = 'City',hue='Converted',data = score)\r\n",
    "xticks(rotation = 90)"
   ],
   "outputs": [
    {
     "output_type": "execute_result",
     "data": {
      "text/plain": [
       "(array([0, 1, 2, 3, 4, 5, 6]), <a list of 7 Text xticklabel objects>)"
      ]
     },
     "metadata": {},
     "execution_count": 63
    },
    {
     "output_type": "display_data",
     "data": {
      "text/plain": [
       "<Figure size 432x288 with 1 Axes>"
      ],
      "image/png": "[encoded data removed]"
     },
     "metadata": {
      "needs_background": "light"
     }
    }
   ],
   "metadata": {}
  },
  {
   "cell_type": "markdown",
   "source": [
    "### Asymmetrique Profile Index - "
   ],
   "metadata": {}
  },
  {
   "cell_type": "code",
   "execution_count": 64,
   "source": [
    "score['Asymmetrique Profile Index'].value_counts()"
   ],
   "outputs": [
    {
     "output_type": "execute_result",
     "data": {
      "text/plain": [
       "02.Medium    2771\n",
       "01.High      2201\n",
       "03.Low         31\n",
       "Name: Asymmetrique Profile Index, dtype: int64"
      ]
     },
     "metadata": {},
     "execution_count": 64
    }
   ],
   "metadata": {}
  },
  {
   "cell_type": "markdown",
   "source": [
    "Filling null values - "
   ],
   "metadata": {}
  },
  {
   "cell_type": "code",
   "execution_count": 65,
   "source": [
    "score['Asymmetrique Profile Index'].fillna(\"Unknown\", inplace = True)\r\n",
    "score['Asymmetrique Profile Index'].value_counts()"
   ],
   "outputs": [
    {
     "output_type": "execute_result",
     "data": {
      "text/plain": [
       "Unknown      4201\n",
       "02.Medium    2771\n",
       "01.High      2201\n",
       "03.Low         31\n",
       "Name: Asymmetrique Profile Index, dtype: int64"
      ]
     },
     "metadata": {},
     "execution_count": 65
    }
   ],
   "metadata": {}
  },
  {
   "cell_type": "code",
   "execution_count": 66,
   "source": [
    "sns.countplot(x = 'Asymmetrique Profile Index',hue='Converted',data = score)\r\n",
    "xticks(rotation = 90)"
   ],
   "outputs": [
    {
     "output_type": "execute_result",
     "data": {
      "text/plain": [
       "(array([0, 1, 2, 3]), <a list of 4 Text xticklabel objects>)"
      ]
     },
     "metadata": {},
     "execution_count": 66
    },
    {
     "output_type": "display_data",
     "data": {
      "text/plain": [
       "<Figure size 432x288 with 1 Axes>"
      ],
      "image/png": "[encoded data removed]"
     },
     "metadata": {
      "needs_background": "light"
     }
    }
   ],
   "metadata": {}
  },
  {
   "cell_type": "markdown",
   "source": [
    "###  Asymmetrique Activity Index -"
   ],
   "metadata": {}
  },
  {
   "cell_type": "code",
   "execution_count": 67,
   "source": [
    "score['Asymmetrique Activity Index'].value_counts()"
   ],
   "outputs": [
    {
     "output_type": "execute_result",
     "data": {
      "text/plain": [
       "02.Medium    3820\n",
       "01.High       821\n",
       "03.Low        362\n",
       "Name: Asymmetrique Activity Index, dtype: int64"
      ]
     },
     "metadata": {},
     "execution_count": 67
    }
   ],
   "metadata": {}
  },
  {
   "cell_type": "code",
   "execution_count": 68,
   "source": [
    "score['Asymmetrique Activity Index'].unique()"
   ],
   "outputs": [
    {
     "output_type": "execute_result",
     "data": {
      "text/plain": [
       "array(['02.Medium', '01.High', '03.Low', nan], dtype=object)"
      ]
     },
     "metadata": {},
     "execution_count": 68
    }
   ],
   "metadata": {}
  },
  {
   "cell_type": "markdown",
   "source": [
    "Filling null values - "
   ],
   "metadata": {}
  },
  {
   "cell_type": "code",
   "execution_count": 69,
   "source": [
    "score['Asymmetrique Activity Index'].fillna(\"Unknown\", inplace = True)\r\n",
    "score['Asymmetrique Activity Index'].value_counts()"
   ],
   "outputs": [
    {
     "output_type": "execute_result",
     "data": {
      "text/plain": [
       "Unknown      4201\n",
       "02.Medium    3820\n",
       "01.High       821\n",
       "03.Low        362\n",
       "Name: Asymmetrique Activity Index, dtype: int64"
      ]
     },
     "metadata": {},
     "execution_count": 69
    }
   ],
   "metadata": {}
  },
  {
   "cell_type": "code",
   "execution_count": 70,
   "source": [
    "sns.countplot(x = 'Asymmetrique Activity Index',hue='Converted',data = score)\r\n",
    "xticks(rotation = 90)"
   ],
   "outputs": [
    {
     "output_type": "execute_result",
     "data": {
      "text/plain": [
       "(array([0, 1, 2, 3]), <a list of 4 Text xticklabel objects>)"
      ]
     },
     "metadata": {},
     "execution_count": 70
    },
    {
     "output_type": "display_data",
     "data": {
      "text/plain": [
       "<Figure size 432x288 with 1 Axes>"
      ],
      "image/png": "[encoded data removed]"
     },
     "metadata": {
      "needs_background": "light"
     }
    }
   ],
   "metadata": {}
  },
  {
   "cell_type": "markdown",
   "source": [
    "### Country - "
   ],
   "metadata": {}
  },
  {
   "cell_type": "code",
   "execution_count": 71,
   "source": [
    "score['Country'].value_counts()"
   ],
   "outputs": [
    {
     "output_type": "execute_result",
     "data": {
      "text/plain": [
       "India                   6491\n",
       "United States             69\n",
       "United Arab Emirates      53\n",
       "Singapore                 24\n",
       "Saudi Arabia              21\n",
       "United Kingdom            15\n",
       "Australia                 13\n",
       "Qatar                     10\n",
       "Hong Kong                  7\n",
       "Bahrain                    7\n",
       "France                     6\n",
       "Oman                       6\n",
       "unknown                    5\n",
       "Canada                     4\n",
       "Germany                    4\n",
       "South Africa               4\n",
       "Nigeria                    4\n",
       "Kuwait                     4\n",
       "Sweden                     3\n",
       "Uganda                     2\n",
       "Belgium                    2\n",
       "Bangladesh                 2\n",
       "Italy                      2\n",
       "Asia/Pacific Region        2\n",
       "Ghana                      2\n",
       "Philippines                2\n",
       "China                      2\n",
       "Netherlands                2\n",
       "Malaysia                   1\n",
       "Kenya                      1\n",
       "Switzerland                1\n",
       "Liberia                    1\n",
       "Sri Lanka                  1\n",
       "Indonesia                  1\n",
       "Russia                     1\n",
       "Tanzania                   1\n",
       "Denmark                    1\n",
       "Vietnam                    1\n",
       "Name: Country, dtype: int64"
      ]
     },
     "metadata": {},
     "execution_count": 71
    }
   ],
   "metadata": {}
  },
  {
   "cell_type": "code",
   "execution_count": 72,
   "source": [
    "score['Country'].unique()"
   ],
   "outputs": [
    {
     "output_type": "execute_result",
     "data": {
      "text/plain": [
       "array([nan, 'India', 'Russia', 'Kuwait', 'Oman', 'United Arab Emirates',\n",
       "       'United States', 'Australia', 'United Kingdom', 'Bahrain', 'Ghana',\n",
       "       'Singapore', 'Qatar', 'Saudi Arabia', 'Belgium', 'France',\n",
       "       'Sri Lanka', 'China', 'Canada', 'Netherlands', 'Sweden', 'Nigeria',\n",
       "       'Hong Kong', 'Germany', 'Asia/Pacific Region', 'Uganda', 'Kenya',\n",
       "       'Italy', 'South Africa', 'Tanzania', 'unknown', 'Malaysia',\n",
       "       'Liberia', 'Switzerland', 'Denmark', 'Philippines', 'Bangladesh',\n",
       "       'Vietnam', 'Indonesia'], dtype=object)"
      ]
     },
     "metadata": {},
     "execution_count": 72
    }
   ],
   "metadata": {}
  },
  {
   "cell_type": "markdown",
   "source": [
    "Filling null values - "
   ],
   "metadata": {}
  },
  {
   "cell_type": "code",
   "execution_count": 73,
   "source": [
    "score['Country'].fillna('India',inplace = True)"
   ],
   "outputs": [],
   "metadata": {
    "collapsed": true
   }
  },
  {
   "cell_type": "code",
   "execution_count": 74,
   "source": [
    "sns.countplot(x = 'Country',hue='Converted',data = score)\r\n",
    "xticks(rotation = 90)"
   ],
   "outputs": [
    {
     "output_type": "execute_result",
     "data": {
      "text/plain": [
       "(array([ 0,  1,  2,  3,  4,  5,  6,  7,  8,  9, 10, 11, 12, 13, 14, 15, 16,\n",
       "        17, 18, 19, 20, 21, 22, 23, 24, 25, 26, 27, 28, 29, 30, 31, 32, 33,\n",
       "        34, 35, 36, 37]),\n",
       " <a list of 38 Text xticklabel objects>)"
      ]
     },
     "metadata": {},
     "execution_count": 74
    },
    {
     "output_type": "display_data",
     "data": {
      "text/plain": [
       "<Figure size 432x288 with 1 Axes>"
      ],
      "image/png": "[encoded data removed]"
     },
     "metadata": {
      "needs_background": "light"
     }
    }
   ],
   "metadata": {}
  },
  {
   "cell_type": "markdown",
   "source": [
    "### TotalVisits - "
   ],
   "metadata": {}
  },
  {
   "cell_type": "code",
   "execution_count": 75,
   "source": [
    "score['TotalVisits'].replace(np.NaN, score['TotalVisits'].median(), inplace =True)"
   ],
   "outputs": [],
   "metadata": {
    "collapsed": true
   }
  },
  {
   "cell_type": "code",
   "execution_count": 76,
   "source": [
    "sns.countplot(x = 'TotalVisits',data = score)\r\n",
    "xticks(rotation = 90)"
   ],
   "outputs": [
    {
     "output_type": "execute_result",
     "data": {
      "text/plain": [
       "(array([ 0,  1,  2,  3,  4,  5,  6,  7,  8,  9, 10, 11, 12, 13, 14, 15, 16,\n",
       "        17, 18, 19, 20, 21, 22, 23, 24, 25, 26, 27, 28, 29, 30, 31, 32, 33,\n",
       "        34, 35, 36, 37, 38, 39, 40]),\n",
       " <a list of 41 Text xticklabel objects>)"
      ]
     },
     "metadata": {},
     "execution_count": 76
    },
    {
     "output_type": "display_data",
     "data": {
      "text/plain": [
       "<Figure size 432x288 with 1 Axes>"
      ],
      "image/png": "[encoded data removed]"
     },
     "metadata": {
      "needs_background": "light"
     }
    }
   ],
   "metadata": {}
  },
  {
   "cell_type": "markdown",
   "source": [
    "### Page Views Per Visit - "
   ],
   "metadata": {}
  },
  {
   "cell_type": "markdown",
   "source": [
    "Filling null values with median."
   ],
   "metadata": {}
  },
  {
   "cell_type": "code",
   "execution_count": 79,
   "source": [
    "score['Page Views Per Visit'].median()"
   ],
   "outputs": [
    {
     "output_type": "execute_result",
     "data": {
      "text/plain": [
       "2.0"
      ]
     },
     "metadata": {},
     "execution_count": 79
    }
   ],
   "metadata": {}
  },
  {
   "cell_type": "code",
   "execution_count": 77,
   "source": [
    "score['Page Views Per Visit'].replace(np.NaN, score['Page Views Per Visit'].median(), inplace =True)"
   ],
   "outputs": [],
   "metadata": {
    "collapsed": true
   }
  },
  {
   "cell_type": "markdown",
   "source": [
    "## Checking Outliers - "
   ],
   "metadata": {}
  },
  {
   "cell_type": "code",
   "execution_count": 80,
   "source": [
    "sns.boxplot(x=score['TotalVisits'])"
   ],
   "outputs": [
    {
     "output_type": "execute_result",
     "data": {
      "text/plain": [
       "<matplotlib.axes._subplots.AxesSubplot at 0x1adb1b52e10>"
      ]
     },
     "metadata": {},
     "execution_count": 80
    },
    {
     "output_type": "display_data",
     "data": {
      "text/plain": [
       "<Figure size 432x288 with 1 Axes>"
      ],
      "image/png": "[encoded data removed]"
     },
     "metadata": {
      "needs_background": "light"
     }
    }
   ],
   "metadata": {}
  },
  {
   "cell_type": "code",
   "execution_count": 81,
   "source": [
    "sns.boxplot(x=score['Total Time Spent on Website'])"
   ],
   "outputs": [
    {
     "output_type": "execute_result",
     "data": {
      "text/plain": [
       "<matplotlib.axes._subplots.AxesSubplot at 0x1adb1b52d68>"
      ]
     },
     "metadata": {},
     "execution_count": 81
    },
    {
     "output_type": "display_data",
     "data": {
      "text/plain": [
       "<Figure size 432x288 with 1 Axes>"
      ],
      "image/png": "[encoded data removed]"
     },
     "metadata": {
      "needs_background": "light"
     }
    }
   ],
   "metadata": {}
  },
  {
   "cell_type": "code",
   "execution_count": 82,
   "source": [
    "sns.boxplot(x=score['Page Views Per Visit'])"
   ],
   "outputs": [
    {
     "output_type": "execute_result",
     "data": {
      "text/plain": [
       "<matplotlib.axes._subplots.AxesSubplot at 0x1adb1c0b978>"
      ]
     },
     "metadata": {},
     "execution_count": 82
    },
    {
     "output_type": "display_data",
     "data": {
      "text/plain": [
       "<Figure size 432x288 with 1 Axes>"
      ],
      "image/png": "[encoded data removed]"
     },
     "metadata": {
      "needs_background": "light"
     }
    }
   ],
   "metadata": {}
  },
  {
   "cell_type": "markdown",
   "source": [
    "### Removing outliers with interquartile distance "
   ],
   "metadata": {}
  },
  {
   "cell_type": "markdown",
   "source": [
    "For TotalVisits - "
   ],
   "metadata": {}
  },
  {
   "cell_type": "code",
   "execution_count": 83,
   "source": [
    "Q1 = score['TotalVisits'].quantile(0.25)\r\n",
    "Q3 = score['TotalVisits'].quantile(0.75)\r\n",
    "IQR = Q3 - Q1\r\n",
    "print(IQR)"
   ],
   "outputs": [
    {
     "output_type": "stream",
     "name": "stdout",
     "text": [
      "4.0\n"
     ]
    }
   ],
   "metadata": {}
  },
  {
   "cell_type": "code",
   "execution_count": 84,
   "source": [
    "score=score.loc[(score['TotalVisits'] >= Q1 - 1.5*IQR) & (score['TotalVisits'] <= Q3 + 1.5*IQR)]"
   ],
   "outputs": [],
   "metadata": {
    "collapsed": true
   }
  },
  {
   "cell_type": "code",
   "execution_count": 85,
   "source": [
    "sns.boxplot(x=score['TotalVisits'])"
   ],
   "outputs": [
    {
     "output_type": "execute_result",
     "data": {
      "text/plain": [
       "<matplotlib.axes._subplots.AxesSubplot at 0x1adb1c75b38>"
      ]
     },
     "metadata": {},
     "execution_count": 85
    },
    {
     "output_type": "display_data",
     "data": {
      "text/plain": [
       "<Figure size 432x288 with 1 Axes>"
      ],
      "image/png": "[encoded data removed]"
     },
     "metadata": {
      "needs_background": "light"
     }
    }
   ],
   "metadata": {}
  },
  {
   "cell_type": "markdown",
   "source": [
    "For Total Time Spent on Website - "
   ],
   "metadata": {}
  },
  {
   "cell_type": "code",
   "execution_count": 86,
   "source": [
    "Q1 = score['Total Time Spent on Website'].quantile(0.25)\r\n",
    "Q3 = score['Total Time Spent on Website'].quantile(0.75)\r\n",
    "IQR = Q3 - Q1\r\n",
    "print(IQR)"
   ],
   "outputs": [
    {
     "output_type": "stream",
     "name": "stdout",
     "text": [
      "918.0\n"
     ]
    }
   ],
   "metadata": {}
  },
  {
   "cell_type": "code",
   "execution_count": 87,
   "source": [
    "score=score.loc[(score['Total Time Spent on Website'] >= Q1 - 1.5*IQR) & (score['Total Time Spent on Website'] <= Q3 + 1.5*IQR)]"
   ],
   "outputs": [],
   "metadata": {
    "collapsed": true
   }
  },
  {
   "cell_type": "code",
   "execution_count": 88,
   "source": [
    "sns.boxplot(x=score['Total Time Spent on Website'])"
   ],
   "outputs": [
    {
     "output_type": "execute_result",
     "data": {
      "text/plain": [
       "<matplotlib.axes._subplots.AxesSubplot at 0x1adb0080940>"
      ]
     },
     "metadata": {},
     "execution_count": 88
    },
    {
     "output_type": "display_data",
     "data": {
      "text/plain": [
       "<Figure size 432x288 with 1 Axes>"
      ],
      "image/png": "[encoded data removed]"
     },
     "metadata": {
      "needs_background": "light"
     }
    }
   ],
   "metadata": {}
  },
  {
   "cell_type": "markdown",
   "source": [
    "For Page Views Per Visit - "
   ],
   "metadata": {}
  },
  {
   "cell_type": "code",
   "execution_count": 89,
   "source": [
    "Q1 = score['Page Views Per Visit'].quantile(0.25)\r\n",
    "Q3 = score['Page Views Per Visit'].quantile(0.75)\r\n",
    "IQR = Q3 - Q1\r\n",
    "print(IQR)"
   ],
   "outputs": [
    {
     "output_type": "stream",
     "name": "stdout",
     "text": [
      "2.0\n"
     ]
    }
   ],
   "metadata": {}
  },
  {
   "cell_type": "code",
   "execution_count": 90,
   "source": [
    "score=score.loc[(score['Page Views Per Visit'] >= Q1 - 1.5*IQR) & (score['Page Views Per Visit'] <= Q3 + 1.5*IQR)]"
   ],
   "outputs": [],
   "metadata": {
    "collapsed": true
   }
  },
  {
   "cell_type": "code",
   "execution_count": 91,
   "source": [
    "sns.boxplot(x=score['Page Views Per Visit'])"
   ],
   "outputs": [
    {
     "output_type": "execute_result",
     "data": {
      "text/plain": [
       "<matplotlib.axes._subplots.AxesSubplot at 0x1adb00e0470>"
      ]
     },
     "metadata": {},
     "execution_count": 91
    },
    {
     "output_type": "display_data",
     "data": {
      "text/plain": [
       "<Figure size 432x288 with 1 Axes>"
      ],
      "image/png": "[encoded data removed]"
     },
     "metadata": {
      "needs_background": "light"
     }
    }
   ],
   "metadata": {}
  },
  {
   "cell_type": "markdown",
   "source": [
    "## Label Encoding"
   ],
   "metadata": {}
  },
  {
   "cell_type": "markdown",
   "source": [
    "### Now we will going to do label encoding on the columns which have only two categories i.e \"Yes\" or \"No\".\n",
    " - Digital Advertisement\n",
    " - Search\n",
    " - Newspaper Article\n",
    " - X Education Forums\n",
    " - Newspaper\n",
    " - Through Recommendations\n",
    " - A free copy of Mastering The Interview\n",
    " - Do Not Email\n",
    " - Do Not Call"
   ],
   "metadata": {}
  },
  {
   "cell_type": "code",
   "execution_count": 92,
   "source": [
    "from sklearn.preprocessing import LabelEncoder\r\n",
    "\r\n",
    "Label = LabelEncoder()\r\n",
    "score[\"Digital Advertisement\"] = Label.fit_transform(score[\"Digital Advertisement\"])"
   ],
   "outputs": [],
   "metadata": {
    "collapsed": true
   }
  },
  {
   "cell_type": "code",
   "execution_count": 93,
   "source": [
    "score[\"Search\"] = Label.fit_transform(score[\"Search\"])"
   ],
   "outputs": [],
   "metadata": {
    "collapsed": true
   }
  },
  {
   "cell_type": "code",
   "execution_count": 94,
   "source": [
    "score[\"Newspaper Article\"] = Label.fit_transform(score[\"Newspaper Article\"])"
   ],
   "outputs": [],
   "metadata": {
    "collapsed": true
   }
  },
  {
   "cell_type": "code",
   "execution_count": 95,
   "source": [
    "score[\"X Education Forums\"] = Label.fit_transform(score[\"X Education Forums\"])"
   ],
   "outputs": [],
   "metadata": {
    "collapsed": true
   }
  },
  {
   "cell_type": "code",
   "execution_count": 96,
   "source": [
    "score[\"Newspaper\"] = Label.fit_transform(score[\"Newspaper\"])"
   ],
   "outputs": [],
   "metadata": {
    "collapsed": true
   }
  },
  {
   "cell_type": "code",
   "execution_count": 97,
   "source": [
    "score[\"Through Recommendations\"] = Label.fit_transform(score[\"Through Recommendations\"])"
   ],
   "outputs": [],
   "metadata": {
    "collapsed": true
   }
  },
  {
   "cell_type": "code",
   "execution_count": 98,
   "source": [
    "score[\"A free copy of Mastering The Interview\"] = Label.fit_transform(score[\"A free copy of Mastering The Interview\"])"
   ],
   "outputs": [],
   "metadata": {
    "collapsed": true
   }
  },
  {
   "cell_type": "code",
   "execution_count": 99,
   "source": [
    "score[\"Do Not Email\"] = Label.fit_transform(score[\"Do Not Email\"])"
   ],
   "outputs": [],
   "metadata": {
    "collapsed": true
   }
  },
  {
   "cell_type": "code",
   "execution_count": 100,
   "source": [
    "score[\"Do Not Call\"] = Label.fit_transform(score[\"Do Not Call\"])"
   ],
   "outputs": [],
   "metadata": {
    "collapsed": true
   }
  },
  {
   "cell_type": "code",
   "execution_count": 101,
   "source": [
    "score.head()"
   ],
   "outputs": [
    {
     "output_type": "execute_result",
     "data": {
      "text/plain": [
       "               Lead Origin     Lead Source  Do Not Email  Do Not Call  \\\n",
       "0                      API      Olark Chat             0            0   \n",
       "1                      API  Organic Search             0            0   \n",
       "2  Landing Page Submission  Direct Traffic             0            0   \n",
       "3  Landing Page Submission  Direct Traffic             0            0   \n",
       "4  Landing Page Submission          Google             0            0   \n",
       "\n",
       "   Converted  TotalVisits  Total Time Spent on Website  Page Views Per Visit  \\\n",
       "0          0          0.0                            0                   0.0   \n",
       "1          0          5.0                          674                   2.5   \n",
       "2          1          2.0                         1532                   2.0   \n",
       "3          0          1.0                          305                   1.0   \n",
       "4          1          2.0                         1428                   1.0   \n",
       "\n",
       "             Last Activity Country  ... Digital Advertisement  \\\n",
       "0  Page Visited on Website   India  ...                     0   \n",
       "1             Email Opened   India  ...                     0   \n",
       "2             Email Opened   India  ...                     0   \n",
       "3              Unreachable   India  ...                     0   \n",
       "4        Converted to Lead   India  ...                     0   \n",
       "\n",
       "  Through Recommendations                                 Tags  \\\n",
       "0                       0          Interested in other courses   \n",
       "1                       0                              Ringing   \n",
       "2                       0  Will revert after reading the email   \n",
       "3                       0                              Ringing   \n",
       "4                       0  Will revert after reading the email   \n",
       "\n",
       "       Lead Quality    Lead Profile     City  Asymmetrique Activity Index  \\\n",
       "0  Low in Relevance         Unknown  Unknown                    02.Medium   \n",
       "1           Unknown         Unknown  Unknown                    02.Medium   \n",
       "2          Might be  Potential Lead   Mumbai                    02.Medium   \n",
       "3          Not Sure         Unknown   Mumbai                    02.Medium   \n",
       "4          Might be         Unknown   Mumbai                    02.Medium   \n",
       "\n",
       "   Asymmetrique Profile Index  A free copy of Mastering The Interview  \\\n",
       "0                   02.Medium                                       0   \n",
       "1                   02.Medium                                       0   \n",
       "2                     01.High                                       1   \n",
       "3                     01.High                                       0   \n",
       "4                     01.High                                       0   \n",
       "\n",
       "   Last Notable Activity  \n",
       "0               Modified  \n",
       "1           Email Opened  \n",
       "2           Email Opened  \n",
       "3               Modified  \n",
       "4               Modified  \n",
       "\n",
       "[5 rows x 28 columns]"
      ],
      "text/html": [
       "<div>\n",
       "<style scoped>\n",
       "    .dataframe tbody tr th:only-of-type {\n",
       "        vertical-align: middle;\n",
       "    }\n",
       "\n",
       "    .dataframe tbody tr th {\n",
       "        vertical-align: top;\n",
       "    }\n",
       "\n",
       "    .dataframe thead th {\n",
       "        text-align: right;\n",
       "    }\n",
       "</style>\n",
       "<table border=\"1\" class=\"dataframe\">\n",
       "  <thead>\n",
       "    <tr style=\"text-align: right;\">\n",
       "      <th></th>\n",
       "      <th>Lead Origin</th>\n",
       "      <th>Lead Source</th>\n",
       "      <th>Do Not Email</th>\n",
       "      <th>Do Not Call</th>\n",
       "      <th>Converted</th>\n",
       "      <th>TotalVisits</th>\n",
       "      <th>Total Time Spent on Website</th>\n",
       "      <th>Page Views Per Visit</th>\n",
       "      <th>Last Activity</th>\n",
       "      <th>Country</th>\n",
       "      <th>...</th>\n",
       "      <th>Digital Advertisement</th>\n",
       "      <th>Through Recommendations</th>\n",
       "      <th>Tags</th>\n",
       "      <th>Lead Quality</th>\n",
       "      <th>Lead Profile</th>\n",
       "      <th>City</th>\n",
       "      <th>Asymmetrique Activity Index</th>\n",
       "      <th>Asymmetrique Profile Index</th>\n",
       "      <th>A free copy of Mastering The Interview</th>\n",
       "      <th>Last Notable Activity</th>\n",
       "    </tr>\n",
       "  </thead>\n",
       "  <tbody>\n",
       "    <tr>\n",
       "      <th>0</th>\n",
       "      <td>API</td>\n",
       "      <td>Olark Chat</td>\n",
       "      <td>0</td>\n",
       "      <td>0</td>\n",
       "      <td>0</td>\n",
       "      <td>0.0</td>\n",
       "      <td>0</td>\n",
       "      <td>0.0</td>\n",
       "      <td>Page Visited on Website</td>\n",
       "      <td>India</td>\n",
       "      <td>...</td>\n",
       "      <td>0</td>\n",
       "      <td>0</td>\n",
       "      <td>Interested in other courses</td>\n",
       "      <td>Low in Relevance</td>\n",
       "      <td>Unknown</td>\n",
       "      <td>Unknown</td>\n",
       "      <td>02.Medium</td>\n",
       "      <td>02.Medium</td>\n",
       "      <td>0</td>\n",
       "      <td>Modified</td>\n",
       "    </tr>\n",
       "    <tr>\n",
       "      <th>1</th>\n",
       "      <td>API</td>\n",
       "      <td>Organic Search</td>\n",
       "      <td>0</td>\n",
       "      <td>0</td>\n",
       "      <td>0</td>\n",
       "      <td>5.0</td>\n",
       "      <td>674</td>\n",
       "      <td>2.5</td>\n",
       "      <td>Email Opened</td>\n",
       "      <td>India</td>\n",
       "      <td>...</td>\n",
       "      <td>0</td>\n",
       "      <td>0</td>\n",
       "      <td>Ringing</td>\n",
       "      <td>Unknown</td>\n",
       "      <td>Unknown</td>\n",
       "      <td>Unknown</td>\n",
       "      <td>02.Medium</td>\n",
       "      <td>02.Medium</td>\n",
       "      <td>0</td>\n",
       "      <td>Email Opened</td>\n",
       "    </tr>\n",
       "    <tr>\n",
       "      <th>2</th>\n",
       "      <td>Landing Page Submission</td>\n",
       "      <td>Direct Traffic</td>\n",
       "      <td>0</td>\n",
       "      <td>0</td>\n",
       "      <td>1</td>\n",
       "      <td>2.0</td>\n",
       "      <td>1532</td>\n",
       "      <td>2.0</td>\n",
       "      <td>Email Opened</td>\n",
       "      <td>India</td>\n",
       "      <td>...</td>\n",
       "      <td>0</td>\n",
       "      <td>0</td>\n",
       "      <td>Will revert after reading the email</td>\n",
       "      <td>Might be</td>\n",
       "      <td>Potential Lead</td>\n",
       "      <td>Mumbai</td>\n",
       "      <td>02.Medium</td>\n",
       "      <td>01.High</td>\n",
       "      <td>1</td>\n",
       "      <td>Email Opened</td>\n",
       "    </tr>\n",
       "    <tr>\n",
       "      <th>3</th>\n",
       "      <td>Landing Page Submission</td>\n",
       "      <td>Direct Traffic</td>\n",
       "      <td>0</td>\n",
       "      <td>0</td>\n",
       "      <td>0</td>\n",
       "      <td>1.0</td>\n",
       "      <td>305</td>\n",
       "      <td>1.0</td>\n",
       "      <td>Unreachable</td>\n",
       "      <td>India</td>\n",
       "      <td>...</td>\n",
       "      <td>0</td>\n",
       "      <td>0</td>\n",
       "      <td>Ringing</td>\n",
       "      <td>Not Sure</td>\n",
       "      <td>Unknown</td>\n",
       "      <td>Mumbai</td>\n",
       "      <td>02.Medium</td>\n",
       "      <td>01.High</td>\n",
       "      <td>0</td>\n",
       "      <td>Modified</td>\n",
       "    </tr>\n",
       "    <tr>\n",
       "      <th>4</th>\n",
       "      <td>Landing Page Submission</td>\n",
       "      <td>Google</td>\n",
       "      <td>0</td>\n",
       "      <td>0</td>\n",
       "      <td>1</td>\n",
       "      <td>2.0</td>\n",
       "      <td>1428</td>\n",
       "      <td>1.0</td>\n",
       "      <td>Converted to Lead</td>\n",
       "      <td>India</td>\n",
       "      <td>...</td>\n",
       "      <td>0</td>\n",
       "      <td>0</td>\n",
       "      <td>Will revert after reading the email</td>\n",
       "      <td>Might be</td>\n",
       "      <td>Unknown</td>\n",
       "      <td>Mumbai</td>\n",
       "      <td>02.Medium</td>\n",
       "      <td>01.High</td>\n",
       "      <td>0</td>\n",
       "      <td>Modified</td>\n",
       "    </tr>\n",
       "  </tbody>\n",
       "</table>\n",
       "<p>5 rows × 28 columns</p>\n",
       "</div>"
      ]
     },
     "metadata": {},
     "execution_count": 101
    }
   ],
   "metadata": {}
  },
  {
   "cell_type": "markdown",
   "source": [
    "### Creating dummy variables - "
   ],
   "metadata": {}
  },
  {
   "cell_type": "code",
   "execution_count": 102,
   "source": [
    "dummy1 = pd.get_dummies(score[['Country', 'Lead Source','Lead Origin','Last Notable Activity']], drop_first=True)"
   ],
   "outputs": [],
   "metadata": {
    "collapsed": true
   }
  },
  {
   "cell_type": "code",
   "execution_count": 103,
   "source": [
    "score = pd.concat([score,dummy1],axis=1)"
   ],
   "outputs": [],
   "metadata": {
    "collapsed": true
   }
  },
  {
   "cell_type": "code",
   "execution_count": 104,
   "source": [
    "dummy2 = pd.get_dummies(score[['Lead Quality','Asymmetrique Profile Index','Asymmetrique Activity Index','Tags','Lead Profile','What is your current occupation','Specialization','City']],drop_first = True)\r\n",
    "score = pd.concat([score,dummy2],axis=1)"
   ],
   "outputs": [],
   "metadata": {
    "collapsed": true
   }
  },
  {
   "cell_type": "code",
   "execution_count": 105,
   "source": [
    "dummy2.head()"
   ],
   "outputs": [
    {
     "output_type": "execute_result",
     "data": {
      "text/plain": [
       "   Lead Quality_Low in Relevance  Lead Quality_Might be  \\\n",
       "0                              1                      0   \n",
       "1                              0                      0   \n",
       "2                              0                      1   \n",
       "3                              0                      0   \n",
       "4                              0                      1   \n",
       "\n",
       "   Lead Quality_Not Sure  Lead Quality_Unknown  Lead Quality_Worst  \\\n",
       "0                      0                     0                   0   \n",
       "1                      0                     1                   0   \n",
       "2                      0                     0                   0   \n",
       "3                      1                     0                   0   \n",
       "4                      0                     0                   0   \n",
       "\n",
       "   Asymmetrique Profile Index_02.Medium  Asymmetrique Profile Index_03.Low  \\\n",
       "0                                     1                                  0   \n",
       "1                                     1                                  0   \n",
       "2                                     0                                  0   \n",
       "3                                     0                                  0   \n",
       "4                                     0                                  0   \n",
       "\n",
       "   Asymmetrique Profile Index_Unknown  Asymmetrique Activity Index_02.Medium  \\\n",
       "0                                   0                                      1   \n",
       "1                                   0                                      1   \n",
       "2                                   0                                      1   \n",
       "3                                   0                                      1   \n",
       "4                                   0                                      1   \n",
       "\n",
       "   Asymmetrique Activity Index_03.Low  ...  Specialization_Select  \\\n",
       "0                                   0  ...                      1   \n",
       "1                                   0  ...                      1   \n",
       "2                                   0  ...                      0   \n",
       "3                                   0  ...                      0   \n",
       "4                                   0  ...                      1   \n",
       "\n",
       "   Specialization_Services Excellence  Specialization_Supply Chain Management  \\\n",
       "0                                   0                                       0   \n",
       "1                                   0                                       0   \n",
       "2                                   0                                       0   \n",
       "3                                   0                                       0   \n",
       "4                                   0                                       0   \n",
       "\n",
       "   Specialization_Travel and Tourism  City_Other Cities  \\\n",
       "0                                  0                  0   \n",
       "1                                  0                  0   \n",
       "2                                  0                  0   \n",
       "3                                  0                  0   \n",
       "4                                  0                  0   \n",
       "\n",
       "   City_Other Cities of Maharashtra  City_Other Metro Cities  \\\n",
       "0                                 0                        0   \n",
       "1                                 0                        0   \n",
       "2                                 0                        0   \n",
       "3                                 0                        0   \n",
       "4                                 0                        0   \n",
       "\n",
       "   City_Thane & Outskirts  City_Tier II Cities  City_Unknown  \n",
       "0                       0                    0             1  \n",
       "1                       0                    0             1  \n",
       "2                       0                    0             0  \n",
       "3                       0                    0             0  \n",
       "4                       0                    0             0  \n",
       "\n",
       "[5 rows x 72 columns]"
      ],
      "text/html": [
       "<div>\n",
       "<style scoped>\n",
       "    .dataframe tbody tr th:only-of-type {\n",
       "        vertical-align: middle;\n",
       "    }\n",
       "\n",
       "    .dataframe tbody tr th {\n",
       "        vertical-align: top;\n",
       "    }\n",
       "\n",
       "    .dataframe thead th {\n",
       "        text-align: right;\n",
       "    }\n",
       "</style>\n",
       "<table border=\"1\" class=\"dataframe\">\n",
       "  <thead>\n",
       "    <tr style=\"text-align: right;\">\n",
       "      <th></th>\n",
       "      <th>Lead Quality_Low in Relevance</th>\n",
       "      <th>Lead Quality_Might be</th>\n",
       "      <th>Lead Quality_Not Sure</th>\n",
       "      <th>Lead Quality_Unknown</th>\n",
       "      <th>Lead Quality_Worst</th>\n",
       "      <th>Asymmetrique Profile Index_02.Medium</th>\n",
       "      <th>Asymmetrique Profile Index_03.Low</th>\n",
       "      <th>Asymmetrique Profile Index_Unknown</th>\n",
       "      <th>Asymmetrique Activity Index_02.Medium</th>\n",
       "      <th>Asymmetrique Activity Index_03.Low</th>\n",
       "      <th>...</th>\n",
       "      <th>Specialization_Select</th>\n",
       "      <th>Specialization_Services Excellence</th>\n",
       "      <th>Specialization_Supply Chain Management</th>\n",
       "      <th>Specialization_Travel and Tourism</th>\n",
       "      <th>City_Other Cities</th>\n",
       "      <th>City_Other Cities of Maharashtra</th>\n",
       "      <th>City_Other Metro Cities</th>\n",
       "      <th>City_Thane &amp; Outskirts</th>\n",
       "      <th>City_Tier II Cities</th>\n",
       "      <th>City_Unknown</th>\n",
       "    </tr>\n",
       "  </thead>\n",
       "  <tbody>\n",
       "    <tr>\n",
       "      <th>0</th>\n",
       "      <td>1</td>\n",
       "      <td>0</td>\n",
       "      <td>0</td>\n",
       "      <td>0</td>\n",
       "      <td>0</td>\n",
       "      <td>1</td>\n",
       "      <td>0</td>\n",
       "      <td>0</td>\n",
       "      <td>1</td>\n",
       "      <td>0</td>\n",
       "      <td>...</td>\n",
       "      <td>1</td>\n",
       "      <td>0</td>\n",
       "      <td>0</td>\n",
       "      <td>0</td>\n",
       "      <td>0</td>\n",
       "      <td>0</td>\n",
       "      <td>0</td>\n",
       "      <td>0</td>\n",
       "      <td>0</td>\n",
       "      <td>1</td>\n",
       "    </tr>\n",
       "    <tr>\n",
       "      <th>1</th>\n",
       "      <td>0</td>\n",
       "      <td>0</td>\n",
       "      <td>0</td>\n",
       "      <td>1</td>\n",
       "      <td>0</td>\n",
       "      <td>1</td>\n",
       "      <td>0</td>\n",
       "      <td>0</td>\n",
       "      <td>1</td>\n",
       "      <td>0</td>\n",
       "      <td>...</td>\n",
       "      <td>1</td>\n",
       "      <td>0</td>\n",
       "      <td>0</td>\n",
       "      <td>0</td>\n",
       "      <td>0</td>\n",
       "      <td>0</td>\n",
       "      <td>0</td>\n",
       "      <td>0</td>\n",
       "      <td>0</td>\n",
       "      <td>1</td>\n",
       "    </tr>\n",
       "    <tr>\n",
       "      <th>2</th>\n",
       "      <td>0</td>\n",
       "      <td>1</td>\n",
       "      <td>0</td>\n",
       "      <td>0</td>\n",
       "      <td>0</td>\n",
       "      <td>0</td>\n",
       "      <td>0</td>\n",
       "      <td>0</td>\n",
       "      <td>1</td>\n",
       "      <td>0</td>\n",
       "      <td>...</td>\n",
       "      <td>0</td>\n",
       "      <td>0</td>\n",
       "      <td>0</td>\n",
       "      <td>0</td>\n",
       "      <td>0</td>\n",
       "      <td>0</td>\n",
       "      <td>0</td>\n",
       "      <td>0</td>\n",
       "      <td>0</td>\n",
       "      <td>0</td>\n",
       "    </tr>\n",
       "    <tr>\n",
       "      <th>3</th>\n",
       "      <td>0</td>\n",
       "      <td>0</td>\n",
       "      <td>1</td>\n",
       "      <td>0</td>\n",
       "      <td>0</td>\n",
       "      <td>0</td>\n",
       "      <td>0</td>\n",
       "      <td>0</td>\n",
       "      <td>1</td>\n",
       "      <td>0</td>\n",
       "      <td>...</td>\n",
       "      <td>0</td>\n",
       "      <td>0</td>\n",
       "      <td>0</td>\n",
       "      <td>0</td>\n",
       "      <td>0</td>\n",
       "      <td>0</td>\n",
       "      <td>0</td>\n",
       "      <td>0</td>\n",
       "      <td>0</td>\n",
       "      <td>0</td>\n",
       "    </tr>\n",
       "    <tr>\n",
       "      <th>4</th>\n",
       "      <td>0</td>\n",
       "      <td>1</td>\n",
       "      <td>0</td>\n",
       "      <td>0</td>\n",
       "      <td>0</td>\n",
       "      <td>0</td>\n",
       "      <td>0</td>\n",
       "      <td>0</td>\n",
       "      <td>1</td>\n",
       "      <td>0</td>\n",
       "      <td>...</td>\n",
       "      <td>1</td>\n",
       "      <td>0</td>\n",
       "      <td>0</td>\n",
       "      <td>0</td>\n",
       "      <td>0</td>\n",
       "      <td>0</td>\n",
       "      <td>0</td>\n",
       "      <td>0</td>\n",
       "      <td>0</td>\n",
       "      <td>0</td>\n",
       "    </tr>\n",
       "  </tbody>\n",
       "</table>\n",
       "<p>5 rows × 72 columns</p>\n",
       "</div>"
      ]
     },
     "metadata": {},
     "execution_count": 105
    }
   ],
   "metadata": {}
  },
  {
   "cell_type": "code",
   "execution_count": 106,
   "source": [
    "score.shape"
   ],
   "outputs": [
    {
     "output_type": "execute_result",
     "data": {
      "text/plain": [
       "(8643, 175)"
      ]
     },
     "metadata": {},
     "execution_count": 106
    }
   ],
   "metadata": {}
  },
  {
   "cell_type": "markdown",
   "source": [
    "As we have created the dummy variables so now we can drop these columns. "
   ],
   "metadata": {}
  },
  {
   "cell_type": "code",
   "execution_count": 107,
   "source": [
    "score = score.drop(['Lead Quality','Asymmetrique Profile Index','Asymmetrique Activity Index','Tags','Lead Profile',\r\n",
    "                    'Lead Origin','What is your current occupation', 'Specialization', 'City','Last Activity', 'Country', \r\n",
    "                    'Lead Source','Last Notable Activity'], 1)\r\n",
    "score.shape"
   ],
   "outputs": [
    {
     "output_type": "execute_result",
     "data": {
      "text/plain": [
       "(8643, 162)"
      ]
     },
     "metadata": {},
     "execution_count": 107
    }
   ],
   "metadata": {}
  },
  {
   "cell_type": "markdown",
   "source": [
    "## Standard Scaling "
   ],
   "metadata": {}
  },
  {
   "cell_type": "markdown",
   "source": [
    "It helps to normalize the data. "
   ],
   "metadata": {}
  },
  {
   "cell_type": "code",
   "execution_count": 109,
   "source": [
    "from sklearn.preprocessing import StandardScaler\r\n",
    "scaler = StandardScaler()"
   ],
   "outputs": [],
   "metadata": {
    "collapsed": true
   }
  },
  {
   "cell_type": "code",
   "execution_count": 111,
   "source": [
    "score[['TotalVisits','Total Time Spent on Website','Page Views Per Visit']] = scaler.fit_transform(score[['TotalVisits','Total Time Spent on Website','Page Views Per Visit']])\r\n",
    "score.head(1)"
   ],
   "outputs": [
    {
     "output_type": "execute_result",
     "data": {
      "text/plain": [
       "   Do Not Email  Do Not Call  Converted  TotalVisits  \\\n",
       "0             0            0          0    -1.168393   \n",
       "\n",
       "   Total Time Spent on Website  Page Views Per Visit  \\\n",
       "0                    -0.875371             -1.269617   \n",
       "\n",
       "  How did you hear about X Education  \\\n",
       "0                      Not Mentioned   \n",
       "\n",
       "  What matters most to you in choosing a course  Search  Newspaper Article  \\\n",
       "0                       Better Career Prospects       0                  0   \n",
       "\n",
       "   ...  Specialization_Select  Specialization_Services Excellence  \\\n",
       "0  ...                      1                                   0   \n",
       "\n",
       "   Specialization_Supply Chain Management  Specialization_Travel and Tourism  \\\n",
       "0                                       0                                  0   \n",
       "\n",
       "   City_Other Cities  City_Other Cities of Maharashtra  \\\n",
       "0                  0                                 0   \n",
       "\n",
       "   City_Other Metro Cities  City_Thane & Outskirts  City_Tier II Cities  \\\n",
       "0                        0                       0                    0   \n",
       "\n",
       "   City_Unknown  \n",
       "0             1  \n",
       "\n",
       "[1 rows x 162 columns]"
      ],
      "text/html": [
       "<div>\n",
       "<style scoped>\n",
       "    .dataframe tbody tr th:only-of-type {\n",
       "        vertical-align: middle;\n",
       "    }\n",
       "\n",
       "    .dataframe tbody tr th {\n",
       "        vertical-align: top;\n",
       "    }\n",
       "\n",
       "    .dataframe thead th {\n",
       "        text-align: right;\n",
       "    }\n",
       "</style>\n",
       "<table border=\"1\" class=\"dataframe\">\n",
       "  <thead>\n",
       "    <tr style=\"text-align: right;\">\n",
       "      <th></th>\n",
       "      <th>Do Not Email</th>\n",
       "      <th>Do Not Call</th>\n",
       "      <th>Converted</th>\n",
       "      <th>TotalVisits</th>\n",
       "      <th>Total Time Spent on Website</th>\n",
       "      <th>Page Views Per Visit</th>\n",
       "      <th>How did you hear about X Education</th>\n",
       "      <th>What matters most to you in choosing a course</th>\n",
       "      <th>Search</th>\n",
       "      <th>Newspaper Article</th>\n",
       "      <th>...</th>\n",
       "      <th>Specialization_Select</th>\n",
       "      <th>Specialization_Services Excellence</th>\n",
       "      <th>Specialization_Supply Chain Management</th>\n",
       "      <th>Specialization_Travel and Tourism</th>\n",
       "      <th>City_Other Cities</th>\n",
       "      <th>City_Other Cities of Maharashtra</th>\n",
       "      <th>City_Other Metro Cities</th>\n",
       "      <th>City_Thane &amp; Outskirts</th>\n",
       "      <th>City_Tier II Cities</th>\n",
       "      <th>City_Unknown</th>\n",
       "    </tr>\n",
       "  </thead>\n",
       "  <tbody>\n",
       "    <tr>\n",
       "      <th>0</th>\n",
       "      <td>0</td>\n",
       "      <td>0</td>\n",
       "      <td>0</td>\n",
       "      <td>-1.168393</td>\n",
       "      <td>-0.875371</td>\n",
       "      <td>-1.269617</td>\n",
       "      <td>Not Mentioned</td>\n",
       "      <td>Better Career Prospects</td>\n",
       "      <td>0</td>\n",
       "      <td>0</td>\n",
       "      <td>...</td>\n",
       "      <td>1</td>\n",
       "      <td>0</td>\n",
       "      <td>0</td>\n",
       "      <td>0</td>\n",
       "      <td>0</td>\n",
       "      <td>0</td>\n",
       "      <td>0</td>\n",
       "      <td>0</td>\n",
       "      <td>0</td>\n",
       "      <td>1</td>\n",
       "    </tr>\n",
       "  </tbody>\n",
       "</table>\n",
       "<p>1 rows × 162 columns</p>\n",
       "</div>"
      ]
     },
     "metadata": {},
     "execution_count": 111
    }
   ],
   "metadata": {}
  },
  {
   "cell_type": "markdown",
   "source": [
    "## Splitting the data "
   ],
   "metadata": {}
  },
  {
   "cell_type": "code",
   "execution_count": 112,
   "source": [
    "from sklearn.model_selection import train_test_split"
   ],
   "outputs": [],
   "metadata": {
    "collapsed": true
   }
  },
  {
   "cell_type": "code",
   "execution_count": 113,
   "source": [
    "X = score.drop(['Converted','How did you hear about X Education','What matters most to you in choosing a course'], axis=1)\r\n",
    "\r\n",
    "X.head()"
   ],
   "outputs": [
    {
     "output_type": "execute_result",
     "data": {
      "text/plain": [
       "   Do Not Email  Do Not Call  TotalVisits  Total Time Spent on Website  \\\n",
       "0             0            0    -1.168393                    -0.875371   \n",
       "1             0            0     0.901210                     0.358767   \n",
       "2             0            0    -0.340552                     1.929822   \n",
       "3             0            0    -0.754472                    -0.316896   \n",
       "4             0            0    -0.340552                     1.739391   \n",
       "\n",
       "   Page Views Per Visit  Search  Newspaper Article  X Education Forums  \\\n",
       "0             -1.269617       0                  0                   0   \n",
       "1              0.254755       0                  0                   0   \n",
       "2             -0.050120       0                  0                   0   \n",
       "3             -0.659868       0                  0                   0   \n",
       "4             -0.659868       0                  0                   0   \n",
       "\n",
       "   Newspaper  Digital Advertisement  ...  Specialization_Select  \\\n",
       "0          0                      0  ...                      1   \n",
       "1          0                      0  ...                      1   \n",
       "2          0                      0  ...                      0   \n",
       "3          0                      0  ...                      0   \n",
       "4          0                      0  ...                      1   \n",
       "\n",
       "   Specialization_Services Excellence  Specialization_Supply Chain Management  \\\n",
       "0                                   0                                       0   \n",
       "1                                   0                                       0   \n",
       "2                                   0                                       0   \n",
       "3                                   0                                       0   \n",
       "4                                   0                                       0   \n",
       "\n",
       "   Specialization_Travel and Tourism  City_Other Cities  \\\n",
       "0                                  0                  0   \n",
       "1                                  0                  0   \n",
       "2                                  0                  0   \n",
       "3                                  0                  0   \n",
       "4                                  0                  0   \n",
       "\n",
       "   City_Other Cities of Maharashtra  City_Other Metro Cities  \\\n",
       "0                                 0                        0   \n",
       "1                                 0                        0   \n",
       "2                                 0                        0   \n",
       "3                                 0                        0   \n",
       "4                                 0                        0   \n",
       "\n",
       "   City_Thane & Outskirts  City_Tier II Cities  City_Unknown  \n",
       "0                       0                    0             1  \n",
       "1                       0                    0             1  \n",
       "2                       0                    0             0  \n",
       "3                       0                    0             0  \n",
       "4                       0                    0             0  \n",
       "\n",
       "[5 rows x 159 columns]"
      ],
      "text/html": [
       "<div>\n",
       "<style scoped>\n",
       "    .dataframe tbody tr th:only-of-type {\n",
       "        vertical-align: middle;\n",
       "    }\n",
       "\n",
       "    .dataframe tbody tr th {\n",
       "        vertical-align: top;\n",
       "    }\n",
       "\n",
       "    .dataframe thead th {\n",
       "        text-align: right;\n",
       "    }\n",
       "</style>\n",
       "<table border=\"1\" class=\"dataframe\">\n",
       "  <thead>\n",
       "    <tr style=\"text-align: right;\">\n",
       "      <th></th>\n",
       "      <th>Do Not Email</th>\n",
       "      <th>Do Not Call</th>\n",
       "      <th>TotalVisits</th>\n",
       "      <th>Total Time Spent on Website</th>\n",
       "      <th>Page Views Per Visit</th>\n",
       "      <th>Search</th>\n",
       "      <th>Newspaper Article</th>\n",
       "      <th>X Education Forums</th>\n",
       "      <th>Newspaper</th>\n",
       "      <th>Digital Advertisement</th>\n",
       "      <th>...</th>\n",
       "      <th>Specialization_Select</th>\n",
       "      <th>Specialization_Services Excellence</th>\n",
       "      <th>Specialization_Supply Chain Management</th>\n",
       "      <th>Specialization_Travel and Tourism</th>\n",
       "      <th>City_Other Cities</th>\n",
       "      <th>City_Other Cities of Maharashtra</th>\n",
       "      <th>City_Other Metro Cities</th>\n",
       "      <th>City_Thane &amp; Outskirts</th>\n",
       "      <th>City_Tier II Cities</th>\n",
       "      <th>City_Unknown</th>\n",
       "    </tr>\n",
       "  </thead>\n",
       "  <tbody>\n",
       "    <tr>\n",
       "      <th>0</th>\n",
       "      <td>0</td>\n",
       "      <td>0</td>\n",
       "      <td>-1.168393</td>\n",
       "      <td>-0.875371</td>\n",
       "      <td>-1.269617</td>\n",
       "      <td>0</td>\n",
       "      <td>0</td>\n",
       "      <td>0</td>\n",
       "      <td>0</td>\n",
       "      <td>0</td>\n",
       "      <td>...</td>\n",
       "      <td>1</td>\n",
       "      <td>0</td>\n",
       "      <td>0</td>\n",
       "      <td>0</td>\n",
       "      <td>0</td>\n",
       "      <td>0</td>\n",
       "      <td>0</td>\n",
       "      <td>0</td>\n",
       "      <td>0</td>\n",
       "      <td>1</td>\n",
       "    </tr>\n",
       "    <tr>\n",
       "      <th>1</th>\n",
       "      <td>0</td>\n",
       "      <td>0</td>\n",
       "      <td>0.901210</td>\n",
       "      <td>0.358767</td>\n",
       "      <td>0.254755</td>\n",
       "      <td>0</td>\n",
       "      <td>0</td>\n",
       "      <td>0</td>\n",
       "      <td>0</td>\n",
       "      <td>0</td>\n",
       "      <td>...</td>\n",
       "      <td>1</td>\n",
       "      <td>0</td>\n",
       "      <td>0</td>\n",
       "      <td>0</td>\n",
       "      <td>0</td>\n",
       "      <td>0</td>\n",
       "      <td>0</td>\n",
       "      <td>0</td>\n",
       "      <td>0</td>\n",
       "      <td>1</td>\n",
       "    </tr>\n",
       "    <tr>\n",
       "      <th>2</th>\n",
       "      <td>0</td>\n",
       "      <td>0</td>\n",
       "      <td>-0.340552</td>\n",
       "      <td>1.929822</td>\n",
       "      <td>-0.050120</td>\n",
       "      <td>0</td>\n",
       "      <td>0</td>\n",
       "      <td>0</td>\n",
       "      <td>0</td>\n",
       "      <td>0</td>\n",
       "      <td>...</td>\n",
       "      <td>0</td>\n",
       "      <td>0</td>\n",
       "      <td>0</td>\n",
       "      <td>0</td>\n",
       "      <td>0</td>\n",
       "      <td>0</td>\n",
       "      <td>0</td>\n",
       "      <td>0</td>\n",
       "      <td>0</td>\n",
       "      <td>0</td>\n",
       "    </tr>\n",
       "    <tr>\n",
       "      <th>3</th>\n",
       "      <td>0</td>\n",
       "      <td>0</td>\n",
       "      <td>-0.754472</td>\n",
       "      <td>-0.316896</td>\n",
       "      <td>-0.659868</td>\n",
       "      <td>0</td>\n",
       "      <td>0</td>\n",
       "      <td>0</td>\n",
       "      <td>0</td>\n",
       "      <td>0</td>\n",
       "      <td>...</td>\n",
       "      <td>0</td>\n",
       "      <td>0</td>\n",
       "      <td>0</td>\n",
       "      <td>0</td>\n",
       "      <td>0</td>\n",
       "      <td>0</td>\n",
       "      <td>0</td>\n",
       "      <td>0</td>\n",
       "      <td>0</td>\n",
       "      <td>0</td>\n",
       "    </tr>\n",
       "    <tr>\n",
       "      <th>4</th>\n",
       "      <td>0</td>\n",
       "      <td>0</td>\n",
       "      <td>-0.340552</td>\n",
       "      <td>1.739391</td>\n",
       "      <td>-0.659868</td>\n",
       "      <td>0</td>\n",
       "      <td>0</td>\n",
       "      <td>0</td>\n",
       "      <td>0</td>\n",
       "      <td>0</td>\n",
       "      <td>...</td>\n",
       "      <td>1</td>\n",
       "      <td>0</td>\n",
       "      <td>0</td>\n",
       "      <td>0</td>\n",
       "      <td>0</td>\n",
       "      <td>0</td>\n",
       "      <td>0</td>\n",
       "      <td>0</td>\n",
       "      <td>0</td>\n",
       "      <td>0</td>\n",
       "    </tr>\n",
       "  </tbody>\n",
       "</table>\n",
       "<p>5 rows × 159 columns</p>\n",
       "</div>"
      ]
     },
     "metadata": {},
     "execution_count": 113
    }
   ],
   "metadata": {}
  },
  {
   "cell_type": "code",
   "execution_count": 114,
   "source": [
    "y = score['Converted']\r\n",
    "\r\n",
    "y.head()"
   ],
   "outputs": [
    {
     "output_type": "execute_result",
     "data": {
      "text/plain": [
       "0    0\n",
       "1    0\n",
       "2    1\n",
       "3    0\n",
       "4    1\n",
       "Name: Converted, dtype: int64"
      ]
     },
     "metadata": {},
     "execution_count": 114
    }
   ],
   "metadata": {}
  },
  {
   "cell_type": "code",
   "execution_count": 115,
   "source": [
    "X_train, X_test, y_train, y_test = train_test_split(X, y, train_size=0.7, test_size=0.3, random_state=100)"
   ],
   "outputs": [],
   "metadata": {
    "collapsed": true
   }
  },
  {
   "cell_type": "code",
   "execution_count": 116,
   "source": [
    "X_train.describe()"
   ],
   "outputs": [
    {
     "output_type": "execute_result",
     "data": {
      "text/plain": [
       "       Do Not Email  Do Not Call  TotalVisits  Total Time Spent on Website  \\\n",
       "count   6050.000000  6050.000000  6050.000000                  6050.000000   \n",
       "mean       0.076033     0.000331    -0.006542                     0.002283   \n",
       "std        0.265073     0.018180     0.992786                     1.001162   \n",
       "min        0.000000     0.000000    -1.168393                    -0.875371   \n",
       "25%        0.000000     0.000000    -1.168393                    -0.875371   \n",
       "50%        0.000000     0.000000     0.073369                    -0.437746   \n",
       "75%        0.000000     0.000000     0.487289                     0.794103   \n",
       "max        1.000000     1.000000     3.384733                     3.284811   \n",
       "\n",
       "       Page Views Per Visit       Search  Newspaper Article  \\\n",
       "count           6050.000000  6050.000000             6050.0   \n",
       "mean               0.002409     0.000826                0.0   \n",
       "std                1.004446     0.028738                0.0   \n",
       "min               -1.269617     0.000000                0.0   \n",
       "25%               -1.269617     0.000000                0.0   \n",
       "50%               -0.050120     0.000000                0.0   \n",
       "75%                0.559629     0.000000                0.0   \n",
       "max                2.388876     1.000000                0.0   \n",
       "\n",
       "       X Education Forums  Newspaper  Digital Advertisement  ...  \\\n",
       "count              6050.0     6050.0            6050.000000  ...   \n",
       "mean                  0.0        0.0               0.000165  ...   \n",
       "std                   0.0        0.0               0.012856  ...   \n",
       "min                   0.0        0.0               0.000000  ...   \n",
       "25%                   0.0        0.0               0.000000  ...   \n",
       "50%                   0.0        0.0               0.000000  ...   \n",
       "75%                   0.0        0.0               0.000000  ...   \n",
       "max                   0.0        0.0               1.000000  ...   \n",
       "\n",
       "       Specialization_Select  Specialization_Services Excellence  \\\n",
       "count            6050.000000                         6050.000000   \n",
       "mean                0.216033                            0.004132   \n",
       "std                 0.411571                            0.064155   \n",
       "min                 0.000000                            0.000000   \n",
       "25%                 0.000000                            0.000000   \n",
       "50%                 0.000000                            0.000000   \n",
       "75%                 0.000000                            0.000000   \n",
       "max                 1.000000                            1.000000   \n",
       "\n",
       "       Specialization_Supply Chain Management  \\\n",
       "count                             6050.000000   \n",
       "mean                                 0.036694   \n",
       "std                                  0.188026   \n",
       "min                                  0.000000   \n",
       "25%                                  0.000000   \n",
       "50%                                  0.000000   \n",
       "75%                                  0.000000   \n",
       "max                                  1.000000   \n",
       "\n",
       "       Specialization_Travel and Tourism  City_Other Cities  \\\n",
       "count                        6050.000000        6050.000000   \n",
       "mean                            0.018017           0.075868   \n",
       "std                             0.133022           0.264808   \n",
       "min                             0.000000           0.000000   \n",
       "25%                             0.000000           0.000000   \n",
       "50%                             0.000000           0.000000   \n",
       "75%                             0.000000           0.000000   \n",
       "max                             1.000000           1.000000   \n",
       "\n",
       "       City_Other Cities of Maharashtra  City_Other Metro Cities  \\\n",
       "count                       6050.000000              6050.000000   \n",
       "mean                           0.047603                 0.039339   \n",
       "std                            0.212943                 0.194416   \n",
       "min                            0.000000                 0.000000   \n",
       "25%                            0.000000                 0.000000   \n",
       "50%                            0.000000                 0.000000   \n",
       "75%                            0.000000                 0.000000   \n",
       "max                            1.000000                 1.000000   \n",
       "\n",
       "       City_Thane & Outskirts  City_Tier II Cities  City_Unknown  \n",
       "count             6050.000000          6050.000000   6050.000000  \n",
       "mean                 0.077521             0.008099      0.412893  \n",
       "std                  0.267438             0.089638      0.492395  \n",
       "min                  0.000000             0.000000      0.000000  \n",
       "25%                  0.000000             0.000000      0.000000  \n",
       "50%                  0.000000             0.000000      0.000000  \n",
       "75%                  0.000000             0.000000      1.000000  \n",
       "max                  1.000000             1.000000      1.000000  \n",
       "\n",
       "[8 rows x 159 columns]"
      ],
      "text/html": [
       "<div>\n",
       "<style scoped>\n",
       "    .dataframe tbody tr th:only-of-type {\n",
       "        vertical-align: middle;\n",
       "    }\n",
       "\n",
       "    .dataframe tbody tr th {\n",
       "        vertical-align: top;\n",
       "    }\n",
       "\n",
       "    .dataframe thead th {\n",
       "        text-align: right;\n",
       "    }\n",
       "</style>\n",
       "<table border=\"1\" class=\"dataframe\">\n",
       "  <thead>\n",
       "    <tr style=\"text-align: right;\">\n",
       "      <th></th>\n",
       "      <th>Do Not Email</th>\n",
       "      <th>Do Not Call</th>\n",
       "      <th>TotalVisits</th>\n",
       "      <th>Total Time Spent on Website</th>\n",
       "      <th>Page Views Per Visit</th>\n",
       "      <th>Search</th>\n",
       "      <th>Newspaper Article</th>\n",
       "      <th>X Education Forums</th>\n",
       "      <th>Newspaper</th>\n",
       "      <th>Digital Advertisement</th>\n",
       "      <th>...</th>\n",
       "      <th>Specialization_Select</th>\n",
       "      <th>Specialization_Services Excellence</th>\n",
       "      <th>Specialization_Supply Chain Management</th>\n",
       "      <th>Specialization_Travel and Tourism</th>\n",
       "      <th>City_Other Cities</th>\n",
       "      <th>City_Other Cities of Maharashtra</th>\n",
       "      <th>City_Other Metro Cities</th>\n",
       "      <th>City_Thane &amp; Outskirts</th>\n",
       "      <th>City_Tier II Cities</th>\n",
       "      <th>City_Unknown</th>\n",
       "    </tr>\n",
       "  </thead>\n",
       "  <tbody>\n",
       "    <tr>\n",
       "      <th>count</th>\n",
       "      <td>6050.000000</td>\n",
       "      <td>6050.000000</td>\n",
       "      <td>6050.000000</td>\n",
       "      <td>6050.000000</td>\n",
       "      <td>6050.000000</td>\n",
       "      <td>6050.000000</td>\n",
       "      <td>6050.0</td>\n",
       "      <td>6050.0</td>\n",
       "      <td>6050.0</td>\n",
       "      <td>6050.000000</td>\n",
       "      <td>...</td>\n",
       "      <td>6050.000000</td>\n",
       "      <td>6050.000000</td>\n",
       "      <td>6050.000000</td>\n",
       "      <td>6050.000000</td>\n",
       "      <td>6050.000000</td>\n",
       "      <td>6050.000000</td>\n",
       "      <td>6050.000000</td>\n",
       "      <td>6050.000000</td>\n",
       "      <td>6050.000000</td>\n",
       "      <td>6050.000000</td>\n",
       "    </tr>\n",
       "    <tr>\n",
       "      <th>mean</th>\n",
       "      <td>0.076033</td>\n",
       "      <td>0.000331</td>\n",
       "      <td>-0.006542</td>\n",
       "      <td>0.002283</td>\n",
       "      <td>0.002409</td>\n",
       "      <td>0.000826</td>\n",
       "      <td>0.0</td>\n",
       "      <td>0.0</td>\n",
       "      <td>0.0</td>\n",
       "      <td>0.000165</td>\n",
       "      <td>...</td>\n",
       "      <td>0.216033</td>\n",
       "      <td>0.004132</td>\n",
       "      <td>0.036694</td>\n",
       "      <td>0.018017</td>\n",
       "      <td>0.075868</td>\n",
       "      <td>0.047603</td>\n",
       "      <td>0.039339</td>\n",
       "      <td>0.077521</td>\n",
       "      <td>0.008099</td>\n",
       "      <td>0.412893</td>\n",
       "    </tr>\n",
       "    <tr>\n",
       "      <th>std</th>\n",
       "      <td>0.265073</td>\n",
       "      <td>0.018180</td>\n",
       "      <td>0.992786</td>\n",
       "      <td>1.001162</td>\n",
       "      <td>1.004446</td>\n",
       "      <td>0.028738</td>\n",
       "      <td>0.0</td>\n",
       "      <td>0.0</td>\n",
       "      <td>0.0</td>\n",
       "      <td>0.012856</td>\n",
       "      <td>...</td>\n",
       "      <td>0.411571</td>\n",
       "      <td>0.064155</td>\n",
       "      <td>0.188026</td>\n",
       "      <td>0.133022</td>\n",
       "      <td>0.264808</td>\n",
       "      <td>0.212943</td>\n",
       "      <td>0.194416</td>\n",
       "      <td>0.267438</td>\n",
       "      <td>0.089638</td>\n",
       "      <td>0.492395</td>\n",
       "    </tr>\n",
       "    <tr>\n",
       "      <th>min</th>\n",
       "      <td>0.000000</td>\n",
       "      <td>0.000000</td>\n",
       "      <td>-1.168393</td>\n",
       "      <td>-0.875371</td>\n",
       "      <td>-1.269617</td>\n",
       "      <td>0.000000</td>\n",
       "      <td>0.0</td>\n",
       "      <td>0.0</td>\n",
       "      <td>0.0</td>\n",
       "      <td>0.000000</td>\n",
       "      <td>...</td>\n",
       "      <td>0.000000</td>\n",
       "      <td>0.000000</td>\n",
       "      <td>0.000000</td>\n",
       "      <td>0.000000</td>\n",
       "      <td>0.000000</td>\n",
       "      <td>0.000000</td>\n",
       "      <td>0.000000</td>\n",
       "      <td>0.000000</td>\n",
       "      <td>0.000000</td>\n",
       "      <td>0.000000</td>\n",
       "    </tr>\n",
       "    <tr>\n",
       "      <th>25%</th>\n",
       "      <td>0.000000</td>\n",
       "      <td>0.000000</td>\n",
       "      <td>-1.168393</td>\n",
       "      <td>-0.875371</td>\n",
       "      <td>-1.269617</td>\n",
       "      <td>0.000000</td>\n",
       "      <td>0.0</td>\n",
       "      <td>0.0</td>\n",
       "      <td>0.0</td>\n",
       "      <td>0.000000</td>\n",
       "      <td>...</td>\n",
       "      <td>0.000000</td>\n",
       "      <td>0.000000</td>\n",
       "      <td>0.000000</td>\n",
       "      <td>0.000000</td>\n",
       "      <td>0.000000</td>\n",
       "      <td>0.000000</td>\n",
       "      <td>0.000000</td>\n",
       "      <td>0.000000</td>\n",
       "      <td>0.000000</td>\n",
       "      <td>0.000000</td>\n",
       "    </tr>\n",
       "    <tr>\n",
       "      <th>50%</th>\n",
       "      <td>0.000000</td>\n",
       "      <td>0.000000</td>\n",
       "      <td>0.073369</td>\n",
       "      <td>-0.437746</td>\n",
       "      <td>-0.050120</td>\n",
       "      <td>0.000000</td>\n",
       "      <td>0.0</td>\n",
       "      <td>0.0</td>\n",
       "      <td>0.0</td>\n",
       "      <td>0.000000</td>\n",
       "      <td>...</td>\n",
       "      <td>0.000000</td>\n",
       "      <td>0.000000</td>\n",
       "      <td>0.000000</td>\n",
       "      <td>0.000000</td>\n",
       "      <td>0.000000</td>\n",
       "      <td>0.000000</td>\n",
       "      <td>0.000000</td>\n",
       "      <td>0.000000</td>\n",
       "      <td>0.000000</td>\n",
       "      <td>0.000000</td>\n",
       "    </tr>\n",
       "    <tr>\n",
       "      <th>75%</th>\n",
       "      <td>0.000000</td>\n",
       "      <td>0.000000</td>\n",
       "      <td>0.487289</td>\n",
       "      <td>0.794103</td>\n",
       "      <td>0.559629</td>\n",
       "      <td>0.000000</td>\n",
       "      <td>0.0</td>\n",
       "      <td>0.0</td>\n",
       "      <td>0.0</td>\n",
       "      <td>0.000000</td>\n",
       "      <td>...</td>\n",
       "      <td>0.000000</td>\n",
       "      <td>0.000000</td>\n",
       "      <td>0.000000</td>\n",
       "      <td>0.000000</td>\n",
       "      <td>0.000000</td>\n",
       "      <td>0.000000</td>\n",
       "      <td>0.000000</td>\n",
       "      <td>0.000000</td>\n",
       "      <td>0.000000</td>\n",
       "      <td>1.000000</td>\n",
       "    </tr>\n",
       "    <tr>\n",
       "      <th>max</th>\n",
       "      <td>1.000000</td>\n",
       "      <td>1.000000</td>\n",
       "      <td>3.384733</td>\n",
       "      <td>3.284811</td>\n",
       "      <td>2.388876</td>\n",
       "      <td>1.000000</td>\n",
       "      <td>0.0</td>\n",
       "      <td>0.0</td>\n",
       "      <td>0.0</td>\n",
       "      <td>1.000000</td>\n",
       "      <td>...</td>\n",
       "      <td>1.000000</td>\n",
       "      <td>1.000000</td>\n",
       "      <td>1.000000</td>\n",
       "      <td>1.000000</td>\n",
       "      <td>1.000000</td>\n",
       "      <td>1.000000</td>\n",
       "      <td>1.000000</td>\n",
       "      <td>1.000000</td>\n",
       "      <td>1.000000</td>\n",
       "      <td>1.000000</td>\n",
       "    </tr>\n",
       "  </tbody>\n",
       "</table>\n",
       "<p>8 rows × 159 columns</p>\n",
       "</div>"
      ]
     },
     "metadata": {},
     "execution_count": 116
    }
   ],
   "metadata": {}
  },
  {
   "cell_type": "markdown",
   "source": [
    "## Building Model"
   ],
   "metadata": {}
  },
  {
   "cell_type": "markdown",
   "source": [
    "### Logisitic Regression"
   ],
   "metadata": {}
  },
  {
   "cell_type": "code",
   "execution_count": 117,
   "source": [
    "from sklearn.linear_model import LogisticRegression \r\n",
    "classifier = LogisticRegression(random_state = 0) \r\n",
    "classifier.fit(X_train, y_train) "
   ],
   "outputs": [
    {
     "output_type": "execute_result",
     "data": {
      "text/plain": [
       "LogisticRegression(C=1.0, class_weight=None, dual=False, fit_intercept=True,\n",
       "                   intercept_scaling=1, l1_ratio=None, max_iter=100,\n",
       "                   multi_class='auto', n_jobs=None, penalty='l2',\n",
       "                   random_state=0, solver='lbfgs', tol=0.0001, verbose=0,\n",
       "                   warm_start=False)"
      ]
     },
     "metadata": {},
     "execution_count": 117
    }
   ],
   "metadata": {}
  },
  {
   "cell_type": "code",
   "execution_count": 118,
   "source": [
    "y_pred_log = classifier.predict(X_test) "
   ],
   "outputs": [],
   "metadata": {
    "collapsed": true
   }
  },
  {
   "cell_type": "code",
   "execution_count": 119,
   "source": [
    "y_pred_log"
   ],
   "outputs": [
    {
     "output_type": "execute_result",
     "data": {
      "text/plain": [
       "array([0, 0, 0, ..., 0, 0, 1], dtype=int64)"
      ]
     },
     "metadata": {},
     "execution_count": 119
    }
   ],
   "metadata": {}
  },
  {
   "cell_type": "code",
   "execution_count": 120,
   "source": [
    "from sklearn.metrics import classification_report, confusion_matrix, accuracy_score"
   ],
   "outputs": [],
   "metadata": {
    "collapsed": true
   }
  },
  {
   "cell_type": "code",
   "execution_count": 121,
   "source": [
    "print(confusion_matrix(y_test,y_pred_log))"
   ],
   "outputs": [
    {
     "output_type": "stream",
     "name": "stdout",
     "text": [
      "[[1512   72]\n",
      " [ 103  906]]\n"
     ]
    }
   ],
   "metadata": {}
  },
  {
   "cell_type": "code",
   "execution_count": 122,
   "source": [
    "print(classification_report(y_test,y_pred_log))"
   ],
   "outputs": [
    {
     "output_type": "stream",
     "name": "stdout",
     "text": [
      "              precision    recall  f1-score   support\n",
      "\n",
      "           0       0.94      0.95      0.95      1584\n",
      "           1       0.93      0.90      0.91      1009\n",
      "\n",
      "    accuracy                           0.93      2593\n",
      "   macro avg       0.93      0.93      0.93      2593\n",
      "weighted avg       0.93      0.93      0.93      2593\n",
      "\n"
     ]
    }
   ],
   "metadata": {}
  },
  {
   "cell_type": "code",
   "execution_count": 132,
   "source": [
    "print(round(accuracy_score(y_test, y_pred_log),4))"
   ],
   "outputs": [
    {
     "output_type": "stream",
     "name": "stdout",
     "text": [
      "0.9325\n"
     ]
    }
   ],
   "metadata": {}
  },
  {
   "cell_type": "markdown",
   "source": [
    "#### Accuracy score - 93.25"
   ],
   "metadata": {}
  },
  {
   "cell_type": "markdown",
   "source": [
    "### Random Forest"
   ],
   "metadata": {}
  },
  {
   "cell_type": "code",
   "execution_count": 124,
   "source": [
    "from sklearn.ensemble import RandomForestClassifier\r\n",
    "\r\n",
    "text_classifier = RandomForestClassifier(n_estimators=200, random_state=0)\r\n",
    "text_classifier.fit(X_train, y_train)"
   ],
   "outputs": [
    {
     "output_type": "execute_result",
     "data": {
      "text/plain": [
       "RandomForestClassifier(bootstrap=True, ccp_alpha=0.0, class_weight=None,\n",
       "                       criterion='gini', max_depth=None, max_features='auto',\n",
       "                       max_leaf_nodes=None, max_samples=None,\n",
       "                       min_impurity_decrease=0.0, min_impurity_split=None,\n",
       "                       min_samples_leaf=1, min_samples_split=2,\n",
       "                       min_weight_fraction_leaf=0.0, n_estimators=200,\n",
       "                       n_jobs=None, oob_score=False, random_state=0, verbose=0,\n",
       "                       warm_start=False)"
      ]
     },
     "metadata": {},
     "execution_count": 124
    }
   ],
   "metadata": {}
  },
  {
   "cell_type": "code",
   "execution_count": 125,
   "source": [
    "predictions = text_classifier.predict(X_test)"
   ],
   "outputs": [],
   "metadata": {
    "collapsed": true
   }
  },
  {
   "cell_type": "code",
   "execution_count": 126,
   "source": [
    "print(predictions)"
   ],
   "outputs": [
    {
     "output_type": "stream",
     "name": "stdout",
     "text": [
      "[0 0 0 ... 0 0 1]\n"
     ]
    }
   ],
   "metadata": {}
  },
  {
   "cell_type": "code",
   "execution_count": 127,
   "source": [
    "print(confusion_matrix(y_test,predictions))"
   ],
   "outputs": [
    {
     "output_type": "stream",
     "name": "stdout",
     "text": [
      "[[1510   74]\n",
      " [  92  917]]\n"
     ]
    }
   ],
   "metadata": {}
  },
  {
   "cell_type": "code",
   "execution_count": 128,
   "source": [
    "print(classification_report(y_test,predictions))"
   ],
   "outputs": [
    {
     "output_type": "stream",
     "name": "stdout",
     "text": [
      "              precision    recall  f1-score   support\n",
      "\n",
      "           0       0.94      0.95      0.95      1584\n",
      "           1       0.93      0.91      0.92      1009\n",
      "\n",
      "    accuracy                           0.94      2593\n",
      "   macro avg       0.93      0.93      0.93      2593\n",
      "weighted avg       0.94      0.94      0.94      2593\n",
      "\n"
     ]
    }
   ],
   "metadata": {}
  },
  {
   "cell_type": "code",
   "execution_count": 133,
   "source": [
    "print(round(accuracy_score(y_test, predictions),4))"
   ],
   "outputs": [
    {
     "output_type": "stream",
     "name": "stdout",
     "text": [
      "0.936\n"
     ]
    }
   ],
   "metadata": {}
  },
  {
   "cell_type": "markdown",
   "source": [
    "#### Accuracy score - 93.6"
   ],
   "metadata": {}
  },
  {
   "cell_type": "code",
   "execution_count": null,
   "source": [],
   "outputs": [],
   "metadata": {
    "collapsed": true
   }
  }
 ],
 "metadata": {
  "kernelspec": {
   "display_name": "Python 3",
   "language": "python",
   "name": "python3"
  },
  "language_info": {
   "codemirror_mode": {
    "name": "ipython",
    "version": 3
   },
   "file_extension": ".py",
   "mimetype": "text/x-python",
   "name": "python",
   "nbconvert_exporter": "python",
   "pygments_lexer": "ipython3",
   "version": "3.6.10"
  }
 },
 "nbformat": 4,
 "nbformat_minor": 4
}